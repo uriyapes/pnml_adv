{
 "cells": [
  {
   "cell_type": "markdown",
   "metadata": {},
   "source": [
    "# Accuracy Vs. Refinement strength (Lambda)\n",
    "Recreate figure 2 A - \n",
    "Accuracy rate for different refinement strengths \\lambda"
   ]
  },
  {
   "cell_type": "code",
   "execution_count": 1,
   "metadata": {},
   "outputs": [
    {
     "name": "stdout",
     "output_type": "stream",
     "text": [
      "c:\\Users\\uria\\vmplayer_shared\\Pnml_code\\deep_pnml\\notebooks\n",
      "Loading paths from result_summary.ipynb\n"
     ]
    }
   ],
   "source": [
    "import os\n",
    "print(os.getcwd()) #print working dir\n",
    "import matplotlib\n",
    "import matplotlib.lines as mlines\n",
    "import matplotlib.pyplot as plt\n",
    "from matplotlib import gridspec\n",
    "import time\n",
    "\n",
    "from importlib import reload\n",
    "os.sys.path.insert(0, '../src/')\n",
    "import analyze_utilities\n",
    "reload(analyze_utilities)\n",
    "\n",
    "%run ./result_summary.ipynb\n",
    "\n",
    "output_path = '../results/figures'\n",
    "is_plot_title = False\n",
    "is_save_fig = True\n",
    "\n",
    "# print(plt.style.available)\n",
    "# print(plt.rcParams)\n",
    "plt.style.use(['seaborn-darkgrid', 'seaborn-paper'])\n",
    "label_size = 18\n",
    "tick_size = 14\n",
    "plt.rc('text', usetex=False)\n",
    "plt.rc('font', family='serif')\n",
    "plt.rc('axes', titlesize=label_size)\n",
    "plt.rc('axes', labelsize=label_size)\n",
    "plt.rc('xtick', labelsize=tick_size)\n",
    "plt.rc('ytick', labelsize=tick_size)\n",
    "\n",
    "# import pathlib\n",
    "# print(pathlib.Path('.').absolute())\n",
    "# l = './../results/paper/figure_2_A/cifar_adv_diff_fix_natural'\n",
    "# p = pathlib.Path(l)\n",
    "# p.exists()"
   ]
  },
  {
   "cell_type": "code",
   "execution_count": 2,
   "metadata": {},
   "outputs": [],
   "source": [
    "# 10000 samples\n",
    "cifar_pgd_natural_diff_refinement = './../results/paper/figure_2_A/cifar_adv_diff_fix_natural'\n",
    "cifar_natural_natural_diff_refinement = './../results/figure_2_A/paper/cifar_diff_fix_natural'\n",
    "cifar_pgd_pgd_diff_refinement = './../results/paper/figure_2_A/cifar_adv_diff_fix'\n",
    "cifar_natural_pgd_diff_refinement = './../results/figure_2_A/paper/cifar_diff_fix'"
   ]
  },
  {
   "cell_type": "code",
   "execution_count": 7,
   "metadata": {},
   "outputs": [
    {
     "data": {
      "image/png": "[encoded data removed]",
      "text/plain": [
       "<Figure size 460.8x316.8 with 1 Axes>"
      ]
     },
     "metadata": {},
     "output_type": "display_data"
    }
   ],
   "source": [
    "# results for pgd trained and natural trained models for different refinement strength (lambda [0, 0.05]):\n",
    "# Names are formulated the following way cifar_{train type}_{attack_type}_df\n",
    "\n",
    "# cifar_pgd_natural_df, _ = analyze_utilities.create_nml_vs_eps_df(cifar_pgd_natural_diff_refinement)\n",
    "# cifar_natural_natural_df, _ = analyze_utilities.create_nml_vs_eps_df(cifar_natural_natural_diff_refinement)\n",
    "# cifar_natural_pgd_df, _= analyze_utilities.create_nml_vs_eps_df((cifar_natural_pgd_diff_refinement))\n",
    "# cifar_pgd_pgd_df, _ = analyze_utilities.create_nml_vs_eps_df(cifar_pgd_pgd_diff_refinement)\n",
    "\n",
    "\n",
    "axes = plt.gca()\n",
    "axes.set_xlim([0.0, 0.0505])\n",
    "# axes.set_ylim([-0.53, 1.0])\n",
    "l1 = plt.plot(cifar_pgd_natural_df['eps'],cifar_pgd_natural_df['acc'], 'go-')\n",
    "# l2 = plt.plot(cifar_natural_natural_df['eps'],cifar_natural_natural_df['acc'], 'mo-')\n",
    "# l3 = plt.plot(cifar_natural_pgd_df['eps'],cifar_natural_pgd_df['acc'], 'ro-')\n",
    "l4 = plt.plot(cifar_pgd_pgd_df['eps'],cifar_pgd_pgd_df['acc'], 'bo-')\n",
    "\n",
    "plt.xlabel('Refinement strength')\n",
    "plt.ylabel('Accuracy')\n",
    "green_line = mlines.Line2D([], [], color='green', markersize=15, label='PGD train, No attack')\n",
    "# purple_line = mlines.Line2D([], [], color='purple', markersize=15, label='Natural train, No attack')\n",
    "# red_line = mlines.Line2D([], [], color='red', markersize=15, label='Natural train, PGD attack')\n",
    "blue_line = mlines.Line2D([], [], color='blue', markersize=15, label='PGD train, PGD attack')\n",
    "plt.legend(handles=[blue_line, green_line], fontsize=12, ncol=1, loc=3)\n",
    "\n",
    "plt.savefig(os.path.join(output_path, 'fig_cifar_acc_vs_refinement_strength.pdf'), dpi=200,\n",
    "            bbox_inches=plt.tight_layout()) if is_save_fig else None\n",
    "plt.show()\n"
   ]
  },
  {
   "cell_type": "code",
   "execution_count": 8,
   "metadata": {},
   "outputs": [
    {
     "name": "stdout",
     "output_type": "stream",
     "text": [
      "      acc mean loss  std loss mean entropy    eps refine_iter  \\\n",
      "0  0.3742   3.07176   3.29567     0.200663  0.001           1   \n",
      "1  0.3803   2.65604   2.91849     0.257525  0.005           1   \n",
      "2  0.3927   2.21266   2.47298     0.339296   0.01           1   \n",
      "6  0.3955   2.13842   2.39041     0.355881  0.011           1   \n",
      "3   0.457   1.49731   1.29227     0.600455   0.03           1   \n",
      "4  0.4906   1.46741  0.998813     0.676439   0.05           1   \n",
      "5  0.4906   1.46741  0.998813     0.676439   0.08           1   \n",
      "\n",
      "  refine_random_start refine_restart_num beta  \\\n",
      "0               False                  1    0   \n",
      "1               False                  1    0   \n",
      "2               False                  1    0   \n",
      "6               False                  1    0   \n",
      "3               False                  1    0   \n",
      "4               False                  1    0   \n",
      "5               False                  1    0   \n",
      "\n",
      "                                              params params_fix_hash  \\\n",
      "0  {'batch_size': 128, 'num_workers': 4, 'freeze_...    -7.43845e+18   \n",
      "1  {'batch_size': 128, 'num_workers': 4, 'freeze_...     9.27887e+17   \n",
      "2  {'batch_size': 128, 'num_workers': 4, 'freeze_...     7.22307e+17   \n",
      "6  {'batch_size': 128, 'num_workers': 4, 'freeze_...     5.98803e+18   \n",
      "3  {'batch_size': 128, 'num_workers': 4, 'freeze_...    -9.21808e+18   \n",
      "4  {'batch_size': 128, 'num_workers': 4, 'freeze_...     -5.4481e+18   \n",
      "5  {'batch_size': 128, 'num_workers': 4, 'freeze_...    -3.34548e+17   \n",
      "\n",
      "                                        results_path  \n",
      "0  ./../results/paper/figure_2_A/cifar_adv_diff_f...  \n",
      "1  ./../results/paper/figure_2_A/cifar_adv_diff_f...  \n",
      "2  ./../results/paper/figure_2_A/cifar_adv_diff_f...  \n",
      "6  ./../results/paper/figure_2_A/cifar_adv_diff_f...  \n",
      "3  ./../results/paper/figure_2_A/cifar_adv_diff_f...  \n",
      "4  ./../results/paper/figure_2_A/cifar_adv_diff_f...  \n",
      "5  ./../results/paper/figure_2_A/cifar_adv_diff_f...  \n",
      "      acc mean loss  std loss mean entropy    eps refine_iter  \\\n",
      "0  0.8432  0.489331   1.10114     0.163852  0.001           1   \n",
      "1  0.8445  0.482485  0.981362     0.203187  0.005           1   \n",
      "2  0.8451  0.503934  0.864597     0.259315   0.01           1   \n",
      "6   0.845  0.511912  0.846241     0.270941  0.011           1   \n",
      "3  0.8431  0.780181  0.714127     0.477219   0.03           1   \n",
      "4  0.8398  0.937294  0.703265     0.562013   0.05           1   \n",
      "5  0.8398  0.937294  0.703265     0.562013   0.08           1   \n",
      "\n",
      "  refine_random_start refine_restart_num beta  \\\n",
      "0               False                  1    0   \n",
      "1               False                  1    0   \n",
      "2               False                  1    0   \n",
      "6               False                  1    0   \n",
      "3               False                  1    0   \n",
      "4               False                  1    0   \n",
      "5               False                  1    0   \n",
      "\n",
      "                                              params params_fix_hash  \\\n",
      "0  {'batch_size': 128, 'num_workers': 4, 'freeze_...    -7.43845e+18   \n",
      "1  {'batch_size': 128, 'num_workers': 4, 'freeze_...     9.27887e+17   \n",
      "2  {'batch_size': 128, 'num_workers': 4, 'freeze_...     7.22307e+17   \n",
      "6  {'batch_size': 128, 'num_workers': 4, 'freeze_...     5.98803e+18   \n",
      "3  {'batch_size': 128, 'num_workers': 4, 'freeze_...    -9.21808e+18   \n",
      "4  {'batch_size': 128, 'num_workers': 4, 'freeze_...     -5.4481e+18   \n",
      "5  {'batch_size': 128, 'num_workers': 4, 'freeze_...    -3.34548e+17   \n",
      "\n",
      "                                        results_path  \n",
      "0  ./../results/paper/figure_2_A/cifar_adv_diff_f...  \n",
      "1  ./../results/paper/figure_2_A/cifar_adv_diff_f...  \n",
      "2  ./../results/paper/figure_2_A/cifar_adv_diff_f...  \n",
      "6  ./../results/paper/figure_2_A/cifar_adv_diff_f...  \n",
      "3  ./../results/paper/figure_2_A/cifar_adv_diff_f...  \n",
      "4  ./../results/paper/figure_2_A/cifar_adv_diff_f...  \n",
      "5  ./../results/paper/figure_2_A/cifar_adv_diff_f...  \n"
     ]
    }
   ],
   "source": [
    "print(cifar_pgd_pgd_df)\n",
    "print(cifar_pgd_natural_df)"
   ]
  }
 ],
 "metadata": {
  "kernelspec": {
   "display_name": "Python 3",
   "language": "python",
   "name": "python3"
  },
  "language_info": {
   "codemirror_mode": {
    "name": "ipython",
    "version": 3
   },
   "file_extension": ".py",
   "mimetype": "text/x-python",
   "name": "python",
   "nbconvert_exporter": "python",
   "pygments_lexer": "ipython3",
   "version": "3.8.2"
  }
 },
 "nbformat": 4,
 "nbformat_minor": 2
}
