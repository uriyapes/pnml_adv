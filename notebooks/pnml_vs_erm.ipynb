{
 "cells": [
  {
   "cell_type": "code",
   "execution_count": 1,
   "metadata": {},
   "outputs": [
    {
     "name": "stdout",
     "output_type": "stream",
     "text": [
      "C:\\Users\\uria\\vmplayer_shared\\Pnml_code\\deep_pnml\\notebooks\n",
      "Loading paths from result_summary.ipynb\n"
     ]
    }
   ],
   "source": [
    "import os\n",
    "print(os.getcwd()) #print working dir\n",
    "import matplotlib.pyplot as plt\n",
    "from matplotlib import gridspec\n",
    "import time\n",
    "\n",
    "os.sys.path.insert(0, '../src/')\n",
    "from analyze_utilities import *\n",
    "%run ./result_summary_uriya.ipynb\n",
    "\n",
    "output_path = '../results/figures'\n",
    "is_plot_title = False\n",
    "is_save_fig = True\n",
    "\n",
    "# print(plt.style.available)\n",
    "# print(plt.rcParams)\n",
    "plt.style.use(['seaborn-darkgrid', 'seaborn-paper'])\n",
    "label_size = 18\n",
    "tick_size = 14\n",
    "plt.rc('text', usetex=False)\n",
    "plt.rc('font', family='serif')\n",
    "plt.rc('axes', titlesize=label_size)\n",
    "plt.rc('axes', labelsize=label_size)\n",
    "plt.rc('xtick', labelsize=tick_size)\n",
    "plt.rc('ytick', labelsize=tick_size)\n",
    "\n"
   ]
  },
  {
   "cell_type": "markdown",
   "metadata": {
    "nbpresent": {
     "id": "24ca4ce8-ea48-4093-bb82-aa9fb8c95eba"
    }
   },
   "source": [
    "# PNML Vs. ERM Performence\n",
    "PNML is as training is as following:\n",
    "1. Train base model with all adversarial trainset (Natural/FGSM/PGD)\n",
    "2. Report the accuracy of the adversarial testset (Natural/FGSM/PGD) as ERM\n",
    "Perform pNML procedure - \n",
    "3. For each test sample:\n",
    "    1. For each label:\n",
    "        1. Refine the sample to better fit the label using targeted FGSM attack\n",
    "        2. Inference the refined sample and save the probability of the corresponding label.\n",
    "    2. Take all save probabilities and normalize them.\n",
    "    3. Report the new probability assignment"
   ]
  },
  {
   "cell_type": "code",
   "execution_count": 2,
   "metadata": {},
   "outputs": [],
   "source": [
    "# Paper results:\n",
    "# {Adv._train}_{Adv._attack}\n",
    "###  MNIST: ###\n",
    "mnist_results_d={}\n",
    "# refinement : fgsm eps=0.1\n",
    "# Natural training\n",
    "mnist_results_d['natural_natural'] = ['./../results/paper/MNIST/mnist_adversarial_results_20190802_133952/results_mnist_adversarial_20190802_133952.json'] # [Original\\PNML Accuracy] = [0.9934/0.9925]\n",
    "mnist_results_d['natural_fgsm'] = ['./../results/paper/MNIST/mnist_adversarial_results_20190802_135239/results_mnist_adversarial_20190802_135239.json'] # [Original\\PNML Accuracy] = [0.0056/0.0159]\n",
    "mnist_results_d['natural_pgd'] = ['./../results/paper/MNIST/mnist_adversarial_results_20190802_131552/results_mnist_adversarial_20190802_131552.json'] # [Original\\PNML Accuracy] = [0.0/0.0]\n",
    "# FGSM training eps=0.3\n",
    "mnist_results_d['fgsm_natural'] = ['./../results/paper/MNIST/mnist_adversarial_results_20190802_122620/results_mnist_adversarial_20190802_122620.json']\n",
    "mnist_results_d['fgsm_fgsm'] = ['./../results/paper/MNIST/mnist_adversarial_results_20190801_192015/results_mnist_adversarial_20190801_192015.json'] # [Original\\PNML Accuracy] = [0.976700\\0.9135]\n",
    "mnist_results_d['fgsm_pgd'] = ['./../results/paper/MNIST/mnist_adversarial_results_20190802_125138/results_mnist_adversarial_20190802_125138.json']# [Original\\PNML Accuracy] = [0.0027/0.2329]\n",
    "# PGD training eps=0.3,iter=40 , step_size=0.01, rnd_starts=20\n",
    "mnist_results_d['pgd_natural'] = ['./../results/paper/MNIST/mnist_adversarial_results_20190802_153819/results_mnist_adversarial_20190802_153819.json']   # [Original\\PNML Accuracy] = [0.9832\\0.9831]\n",
    "mnist_results_d['pgd_fgsm'] = ['./../results/paper/MNIST/mnist_adversarial_results_20190802_143802/results_mnist_adversarial_20190802_143802.json']  # [Original\\PNML Accuracy] = [0.9577\\0.9391]\n",
    "mnist_results_d['pgd_pgd'] = ['./../results/paper/MNIST/mnist_adversarial_results_20190802_151544/results_mnist_adversarial_20190802_151544.json']  # [Original\\PNML Accuracy] = [0.9051\\0.9519]\n",
    "\n",
    "###  CIFAR10: ###\n",
    "cifar_results_d = {}\n",
    "# Natural training\n",
    "# refinement : fgsm eps=0.02\n",
    "cifar_results_d['natural_natural'] = ['./../results/paper/CIFAR/table1/natural_train_lambda_002/natural/results_cifar_adversarial_20190923_140033.json']  # [Original\\PNML Accuracy] = [] \n",
    "cifar_results_d['natural_fgsm'] = ['./../results/paper/CIFAR/table1/natural_train_lambda_002/fgsm/results_cifar_adversarial_20190923_135955.json']  # [Original\\PNML Accuracy] = [] \n",
    "cifar_results_d['natural_pgd'] = ['./../results/paper/CIFAR/table1/natural_train_lambda_002/pgd/cifar_adversarial_results_20190923_140142/results_cifar_adversarial_20190923_140142.json']  # [Original\\PNML Accuracy] = [] \n",
    "# FGSM training eps=0.0313\n",
    "# refinement : fgsm eps=0.08\n",
    "cifar_results_d['fgsm_natural'] = ['./../results/paper/CIFAR/table1/fgsm_train_lambda_008/cifar_fgsm_train_noattack/cifar_adversarial_results_20190924_221329/results_cifar_adversarial_20190924_221329.json']  # [Original\\PNML Accuracy] = [] \n",
    "cifar_results_d['fgsm_fgsm'] = ['./../results/paper/CIFAR/table1/fgsm_train_lambda_008/cifar_adversarial_results_20190924_165015/results_cifar_adversarial_20190924_165015.json']  # [Original\\PNML Accuracy] = [] \n",
    "cifar_results_d['fgsm_pgd'] = ['./../results/paper/CIFAR/table1/fgsm_train_lambda_008/cifar_fgsm_train_pgd_attack/cifar_adversarial_results_20190924_222226/results_cifar_adversarial_20190924_222226.json']  # [Original\\PNML Accuracy] = []\n",
    "# PGD training eps=0.0313,iter=20 , step_size=0.0078, rnd_starts=1\n",
    "# refinement : fgsm eps=0.11\n",
    "cifar_results_d['pgd_natural'] = ['./../results/paper/CIFAR/table1/cifar_adversarial_results_20190810_175715/results_cifar_adversarial_20190810_175715.json']  # [Original\\PNML Accuracy] = [] \n",
    "cifar_results_d['pgd_fgsm'] = ['./../results/paper/CIFAR/table1/cifar_adversarial_results_20190810_193501/results_cifar_adversarial_20190810_193501.json']  # [Original\\PNML Accuracy] = [] \n",
    "cifar_results_d['pgd_pgd'] = ['./../results/paper/CIFAR/table1/cifar_adversarial_results_20190810_134149/results_cifar_adversarial_20190810_134149.json']  # [Original\\PNML Accuracy] = [0.3738\\0.6086]"
   ]
  },
  {
   "cell_type": "code",
   "execution_count": 3,
   "metadata": {},
   "outputs": [
    {
     "name": "stdout",
     "output_type": "stream",
     "text": [
      "result_df: loaded in 2.21 [s]\n",
      "          acc  mean loss  std loss  mean entropy\n",
      "nml    0.9925   0.192152  0.347189      0.131640\n",
      "erm    0.9934   0.025535  0.332086      0.004567\n",
      "genie  0.9998   0.000327  0.016714      0.000266\n",
      "10000\n"
     ]
    }
   ],
   "source": [
    "tic = time.time()\n",
    "result_df, statistics_df = load_results_to_df(mnist_results_d['natural_natural'])\n",
    "print('result_df: loaded in {0:.2f} [s]'.format(time.time() - tic))\n",
    "print(statistics_df.transpose())\n",
    "print(result_df.shape[0])"
   ]
  },
  {
   "cell_type": "code",
   "execution_count": 4,
   "metadata": {},
   "outputs": [
    {
     "name": "stdout",
     "output_type": "stream",
     "text": [
      "[Train_Attack]=[natural_natural] Accuracy:[ERM / pNML]= [0.9934 / 0.9925]\n",
      "[Train_Attack]=[natural_fgsm] Accuracy:[ERM / pNML]= [0.0056 / 0.0159]\n",
      "[Train_Attack]=[natural_pgd] Accuracy:[ERM / pNML]= [0.0 / 0.0]\n",
      "[Train_Attack]=[fgsm_natural] Accuracy:[ERM / pNML]= [0.971 / 0.9716]\n",
      "[Train_Attack]=[fgsm_fgsm] Accuracy:[ERM / pNML]= [0.9767 / 0.9135]\n",
      "[Train_Attack]=[fgsm_pgd] Accuracy:[ERM / pNML]= [0.0027 / 0.2329]\n",
      "[Train_Attack]=[pgd_natural] Accuracy:[ERM / pNML]= [0.9832 / 0.9831]\n",
      "[Train_Attack]=[pgd_fgsm] Accuracy:[ERM / pNML]= [0.9577 / 0.9391]\n",
      "[Train_Attack]=[pgd_pgd] Accuracy:[ERM / pNML]= [0.9051 / 0.9519]\n"
     ]
    }
   ],
   "source": [
    "# Create Table 1 MNIST(from paper): Accuracy rate for various adversary attacks and adversary trained models \n",
    "for key in mnist_results_d:\n",
    "    _, statistics_df = load_results_to_df(mnist_results_d[key])\n",
    "    print(\"[Train_Attack]=[{}] Accuracy:[ERM / pNML]= [{} / {}]\".format(key, statistics_df.loc['acc',\"erm\"],statistics_df.loc['acc',\"nml\"]))"
   ]
  },
  {
   "cell_type": "code",
   "execution_count": 5,
   "metadata": {},
   "outputs": [
    {
     "name": "stdout",
     "output_type": "stream",
     "text": [
      "[Train_Attack]=[natural_natural] Accuracy:[ERM / pNML]= [0.9385 / 0.8725]\n",
      "[Train_Attack]=[natural_fgsm] Accuracy:[ERM / pNML]= [0.0606 / 0.059]\n",
      "[Train_Attack]=[natural_pgd] Accuracy:[ERM / pNML]= [0.0 / 0.0103]\n",
      "[Train_Attack]=[fgsm_natural] Accuracy:[ERM / pNML]= [0.8347 / 0.7942]\n",
      "[Train_Attack]=[fgsm_fgsm] Accuracy:[ERM / pNML]= [0.4944 / 0.5011]\n",
      "[Train_Attack]=[fgsm_pgd] Accuracy:[ERM / pNML]= [0.3619 / 0.4882]\n",
      "[Train_Attack]=[pgd_natural] Accuracy:[ERM / pNML]= [0.843 / 0.7905]\n",
      "[Train_Attack]=[pgd_fgsm] Accuracy:[ERM / pNML]= [0.4788 / 0.5452]\n",
      "[Train_Attack]=[pgd_pgd] Accuracy:[ERM / pNML]= [0.3738 / 0.6086]\n"
     ]
    }
   ],
   "source": [
    "# Create Table 1 CIFAR(from paper): Accuracy rate for various adversary attacks and adversary trained models \n",
    "for key in cifar_results_d:\n",
    "    _, statistics_df = load_results_to_df(cifar_results_d[key])\n",
    "    print(\"[Train_Attack]=[{}] Accuracy:[ERM / pNML]= [{} / {}]\".format(key, statistics_df.loc['acc',\"erm\"],statistics_df.loc['acc',\"nml\"]))"
   ]
  }
 ],
 "metadata": {
  "kernelspec": {
   "display_name": "Python 3",
   "language": "python",
   "name": "python3"
  },
  "language_info": {
   "codemirror_mode": {
    "name": "ipython",
    "version": 3
   },
   "file_extension": ".py",
   "mimetype": "text/x-python",
   "name": "python",
   "nbconvert_exporter": "python",
   "pygments_lexer": "ipython3",
   "version": "3.7.0"
  }
 },
 "nbformat": 4,
 "nbformat_minor": 2
}
