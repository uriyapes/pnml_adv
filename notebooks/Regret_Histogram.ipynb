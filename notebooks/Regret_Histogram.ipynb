{
 "cells": [
  {
   "cell_type": "markdown",
   "metadata": {},
   "source": [
    "# Regret Histogram\n",
    "This notebook displays: Regret histograms for CIFAR10 and MNIST.\n",
    "\n",
    "Results appear on figure 3a and figure 2b."
   ]
  },
  {
   "cell_type": "code",
   "execution_count": 1,
   "metadata": {},
   "outputs": [
    {
     "name": "stdout",
     "output_type": "stream",
     "text": [
      "c:\\Users\\uria\\vmplayer_shared\\Pnml_code\\deep_pnml\\notebooks\n",
      "Loading paths from result_summary.ipynb\n"
     ]
    }
   ],
   "source": [
    "import os\n",
    "print(os.getcwd()) #print working dir\n",
    "import matplotlib\n",
    "import matplotlib.lines as mlines\n",
    "import matplotlib.pyplot as plt\n",
    "from matplotlib import gridspec\n",
    "import time\n",
    "\n",
    "from importlib import reload\n",
    "os.sys.path.insert(0, '../src/')\n",
    "import analyze_utilities\n",
    "reload(analyze_utilities)\n",
    "\n",
    "%run ./result_summary.ipynb\n",
    "\n",
    "output_path = '../results/figures'\n",
    "is_plot_title = False\n",
    "is_save_fig = True\n",
    "\n",
    "# print(plt.style.available)\n",
    "# print(plt.rcParams)\n",
    "plt.style.use(['seaborn-darkgrid', 'seaborn-paper'])\n",
    "label_size = 18\n",
    "tick_size = 14\n",
    "plt.rc('text', usetex=False)\n",
    "plt.rc('font', family='serif')\n",
    "plt.rc('axes', titlesize=label_size)\n",
    "plt.rc('axes', labelsize=label_size)\n",
    "plt.rc('xtick', labelsize=tick_size)\n",
    "plt.rc('ytick', labelsize=tick_size)"
   ]
  },
  {
   "cell_type": "markdown",
   "metadata": {},
   "source": [
    "## Regret histograms"
   ]
  },
  {
   "cell_type": "markdown",
   "metadata": {},
   "source": [
    "### MNIST"
   ]
  },
  {
   "cell_type": "code",
   "execution_count": 61,
   "metadata": {},
   "outputs": [
    {
     "name": "stdout",
     "output_type": "stream",
     "text": [
      "Natural: loaded 3000 keys\n",
      "Adaptive: loaded 3000 keys\n"
     ]
    }
   ],
   "source": [
    "# 3000 adversarial BPDA samples with for lambda=0.03\n",
    "mnist_lambda_003_bpda = ['./../results/paper/MNIST/regret_hist_fig_3a/mnist_lambda_003_bpda/results_mnist_adversarial_20190924_213329.json']\n",
    "# 10000 natural samples for lambda=0.03\n",
    "mnist_pgd_natural_fgsm_lambda03 = ['./../results/paper/MNIST/regret_hist_fig_3a/no_attack/results_mnist_adversarial_20190924_212847.json']\n",
    "\n",
    "results_df_natural, statistic_natural = analyze_utilities.load_results_to_df(mnist_pgd_natural_fgsm_lambda03, idx=range(0,3000))\n",
    "print('Natural: loaded %d keys' % results_df_natural.shape[0])\n",
    "results_df_adaptive, statistic_adaptive = analyze_utilities.load_results_to_df(mnist_lambda_003_bpda, idx=range(0,3000))\n",
    "print('Adaptive: loaded %d keys' % results_df_adaptive.shape[0])"
   ]
  },
  {
   "cell_type": "code",
   "execution_count": 66,
   "metadata": {},
   "outputs": [
    {
     "name": "stdout",
     "output_type": "stream",
     "text": [
      "Natural: loaded 3000 keys\n",
      "Adaptive: loaded 3000 keys\n"
     ]
    }
   ],
   "source": [
    "# 3000 adversarial BPDA samples with for lambda=0.1\n",
    "mnist_lambda_01_bpda = ['./../results/MNIST/mnist_lambda_01_beta_search/mnist_adversarial_results_20191013_224611/results_mnist_adversarial_20191013_224611.json']\n",
    "# 10000 natural samples for lambda=0.1\n",
    "mnist_lambda_01_no_attack = ['./../results/MNIST/mnist_lambda_01_no_attack/mnist_adversarial_results_20190802_153819/results_mnist_adversarial_20190802_153819.json']\n",
    "\n",
    "results_df_natural, statistic_natural = analyze_utilities.load_results_to_df(mnist_lambda_01_no_attack, idx=range(0,3000))\n",
    "print('Natural: loaded %d keys' % results_df_natural.shape[0])\n",
    "results_df_adaptive, statistic_adaptive = analyze_utilities.load_results_to_df(mnist_lambda_01_bpda, idx=range(0,3000))\n",
    "print('Adaptive: loaded %d keys' % results_df_adaptive.shape[0])"
   ]
  },
  {
   "cell_type": "code",
   "execution_count": 72,
   "metadata": {},
   "outputs": [
    {
     "data": {
      "image/png": "[encoded data removed]",
      "text/plain": [
       "<Figure size 460.8x316.8 with 1 Axes>"
      ]
     },
     "metadata": {},
     "output_type": "display_data"
    },
    {
     "name": "stdout",
     "output_type": "stream",
     "text": [
      "Natural max:, adaptive min: [0.6483495533323811, -0.3018053393582796]\n",
      "Mean: Natural, adaptive: [0.03914941645988701, 0.4150267081529046]\n",
      "Mean: Natural, adaptive of incorrect only: [0.3353355908565154, 0.34570317269369205]\n"
     ]
    }
   ],
   "source": [
    "# Plot\n",
    "# print(results_df_natural)\n",
    "bins = 20\n",
    "plt.hist(results_df_natural['nml_log_norm_factor'][results_df_natural['nml_is_correct'] == True], alpha=0.5, density=True, label='Natural', bins=bins)\n",
    "plt.hist(results_df_adaptive['nml_log_norm_factor'][results_df_adaptive['nml_is_correct'] == False], alpha=0.5, density=True, label='Adaptive', bins=bins)\n",
    "\n",
    "# plt.hist(results_df_natural['nml_log_norm_factor'], alpha=0.5, density=True, label='Natural', bins=bins)\n",
    "# plt.hist(results_df_adaptive['nml_log_norm_factor'], alpha=0.5, density=True, label='Adaptive', bins=bins)\n",
    "plt.ylabel('Density (symlog scale)')\n",
    "plt.xlabel('Regret')\n",
    "plt.xlim(left=-0.1)\n",
    "plt.ylim(top=100)\n",
    "plt.yscale('symlog')\n",
    "plt.title('Regret Histogram of natural and adversarial MNIST') if is_plot_title else None\n",
    "plt.legend(fontsize=14)\n",
    "plt.savefig(os.path.join(output_path, 'fig_mnist_regret_hist.pdf'),\n",
    "            dpi=200, bbox_inches=plt.tight_layout()) if is_save_fig else None\n",
    "plt.show()\n",
    "\n",
    "print('Natural max:, adaptive min: {}'.format([results_df_natural['nml_log_norm_factor'][results_df_natural['nml_is_correct'] == True].max(),\n",
    "                                             results_df_adaptive['nml_log_norm_factor'][results_df_adaptive['nml_is_correct'] == False].min()]))\n",
    "\n",
    "print('Mean: Natural, adaptive: {}'.format([results_df_natural['nml_log_norm_factor'].mean(),\n",
    "                                             results_df_adaptive['nml_log_norm_factor'].mean()]))\n",
    "\n",
    "print('Mean: Natural, adaptive of incorrect only: {}'.format([results_df_natural['nml_log_norm_factor'][results_df_natural['nml_is_correct'] == False].mean(),\n",
    "                                             results_df_adaptive['nml_log_norm_factor'][results_df_adaptive['nml_is_correct'] == False].mean()]))\n"
   ]
  },
  {
   "cell_type": "markdown",
   "metadata": {},
   "source": [
    "### CIFAR"
   ]
  },
  {
   "cell_type": "code",
   "execution_count": 59,
   "metadata": {},
   "outputs": [
    {
     "name": "stdout",
     "output_type": "stream",
     "text": [
      "Natural: loaded 10000 keys\n",
      "PGD: loaded 10000 keys\n"
     ]
    }
   ],
   "source": [
    "# Load CIFAR\n",
    "# refinement : fgsm eps=0.04 - This results are appear in the paper as CIFAR regret histogram\n",
    "cifar_pgd_natural_fgsm_all5 = ['./../results/paper/CIFAR/regret_hist_fig_2b/natural_lambda_004/results_cifar_adversarial_20190826_073604.json']  # [Original\\PNML Accuracy] = [] \n",
    "cifar_pgd_pgd_fgsm_all5 = ['./../results/paper/CIFAR/regret_hist_fig_2b/pgd_lambda_004/results_cifar_adversarial_20190825_230704.json']  # [Original\\PNML Accuracy] = []\n",
    "\n",
    "results_df_natural, statistic_natural = analyze_utilities.load_results_to_df(cifar_pgd_natural_fgsm_all5) #cifar_pgd_natural_fgsm_all #cifar_pgd_natural_fgsm1\n",
    "print('Natural: loaded %d keys' % results_df_natural.shape[0])\n",
    "results_df_pgd, statistic_pgd = analyze_utilities.load_results_to_df(cifar_pgd_pgd_fgsm_all5)\n",
    "print('PGD: loaded %d keys' % results_df_pgd.shape[0])"
   ]
  },
  {
   "cell_type": "code",
   "execution_count": 60,
   "metadata": {},
   "outputs": [
    {
     "data": {
      "image/png": "[encoded data removed]",
      "text/plain": [
       "<Figure size 460.8x316.8 with 1 Axes>"
      ]
     },
     "metadata": {},
     "output_type": "display_data"
    },
    {
     "name": "stdout",
     "output_type": "stream",
     "text": [
      "Mean: Natural, adaptive: [0.8911116084846499, 0.08252285217793189]\n",
      "Mean: Natural, adaptive of incorrect only: [1.5084615079495216, 0.14368139640636496]\n"
     ]
    }
   ],
   "source": [
    "# Plot\n",
    "bins = 20\n",
    "plt.hist(results_df_natural['nml_log_norm_factor'][results_df_natural['nml_is_correct'] == True], alpha=0.5, density=True, label='Natural', bins=bins)\n",
    "plt.hist(results_df_pgd['nml_log_norm_factor'][results_df_pgd['nml_is_correct'] == False], alpha=0.5, density=True, label='PGD', bins=bins)\n",
    "\n",
    "# plt.hist(results_df_natural['nml_log_norm_factor'], alpha=0.5, density=True, label='Natural', bins=bins)\n",
    "# plt.hist(results_df_pgd['nml_log_norm_factor'], alpha=0.5, density=True, label='PGD', bins=bins)\n",
    "\n",
    "plt.ylabel('Density (symlog scale)')\n",
    "plt.xlabel('Regret')\n",
    "plt.xlim(left=-0.1)\n",
    "plt.ylim(top=10)\n",
    "plt.yscale('symlog')\n",
    "plt.title('Regret Histogram of natural and adversarial MNIST') if is_plot_title else None\n",
    "plt.legend(fontsize=14)\n",
    "plt.savefig(os.path.join(output_path, 'fig_cifar_regret_hist.pdf'),\n",
    "            dpi=200, bbox_inches=plt.tight_layout()) if is_save_fig else None\n",
    "plt.show()\n",
    "print('Mean: Natural, adaptive: {}'.format([results_df_natural['nml_log_norm_factor'].mean(),\n",
    "                                             results_df_adaptive['nml_log_norm_factor'].mean()]))\n",
    "\n",
    "print('Mean: Natural, adaptive of incorrect only: {}'.format([results_df_natural['nml_log_norm_factor'][results_df_natural['nml_is_correct'] == False].mean(),\n",
    "                                             results_df_adaptive['nml_log_norm_factor'][results_df_adaptive['nml_is_correct'] == False].mean()]))"
   ]
  }
 ],
 "metadata": {
  "kernelspec": {
   "display_name": "Python 3",
   "language": "python",
   "name": "python3"
  },
  "language_info": {
   "codemirror_mode": {
    "name": "ipython",
    "version": 3
   },
   "file_extension": ".py",
   "mimetype": "text/x-python",
   "name": "python",
   "nbconvert_exporter": "python",
   "pygments_lexer": "ipython3",
   "version": "3.8.2"
  }
 },
 "nbformat": 4,
 "nbformat_minor": 2
}
