{
 "cells": [
  {
   "cell_type": "code",
   "execution_count": 1,
   "metadata": {},
   "outputs": [
    {
     "name": "stdout",
     "output_type": "stream",
     "text": [
      "c:\\Users\\uria\\vmplayer_shared\\Pnml_code\\deep_pnml\\notebooks\n",
      "c:\\Users\\uria\\vmplayer_shared\\Pnml_code\\deep_pnml\n",
      "c:\\Users\\uria\\vmplayer_shared\\Pnml_code\\deep_pnml\n",
      "c:\\Users\\uria\\vmplayer_shared\\Pnml_code\\deep_pnml\n"
     ]
    }
   ],
   "source": [
    "import os, sys\n",
    "import pathlib\n",
    "import os\n",
    "print(os.getcwd()) #print working dir\n",
    "# os.chdir(os.path.dirname(sys.path[0]))\n",
    "# os.chdir(\"..\")\n",
    "print(os.getcwd()) #print working dir\n",
    "from importlib import reload\n",
    "os.sys.path.insert(0, './src')\n",
    "import analyze_utilities_v2\n",
    "reload(analyze_utilities_v2)\n",
    "\n",
    "import matplotlib.pyplot as plt\n",
    "import pandas as pd\n",
    "pd.set_option(\"display.precision\", 8)\n",
    "\n",
    "output_path = './results/imagenet/figures'\n",
    "is_plot_title = False\n",
    "is_save_fig = True\n"
   ]
  },
  {
   "cell_type": "markdown",
   "metadata": {},
   "source": [
    "# 1. Imagenet results paths"
   ]
  },
  {
   "cell_type": "markdown",
   "metadata": {},
   "source": [
    "    # All tests were performed on the imagenet evaluation subset which includes all the samples for the first 100 classes (50 samples per each class for a total of 5000 samples).\n",
    "    #\n",
    "    # Experiments:\n",
    "    # 1. pNML Accuracy Vs. Refinement strength (\\lambda) - Shows the trade-off between natural and robust accuracy\n",
    "    # 2. Accuracy Vs. PGD-attack strength (\\epsilon); with\\ without  pNML - Shows that pNML improve accuracy.\n",
    "    # 3. Accuracy Vs. Adaptive-attack & PGD-attack strength (\\epsilon) - Shows that adaptive attack is not working\n",
    "    # 4. TODO: blackbox attack Accuracy Vs. Blackbox-attack for different epsilons strength (\\epsilon) - Shows that pNML improve accuracy compared to blackbox without pNML\n",
    "    # PGD attack properties: \"pgd_iter\": 50, \"pgd_step\": 0.00392156862, \"pgd_test_restart_num\": 10\n",
    "    # For 1. \"epsilon\": 0.0156862745098 was selected.\n",
    "    # For 2. lambda = 0.01176 (refinement strength)\n",
    "    # For 3. \"epsilon\": [0.0156, 0.0313, 0.0627] was selected.; lambda = 0.01176(refinement strength). indices: 1 per label, 100 in total."
   ]
  },
  {
   "cell_type": "markdown",
   "metadata": {},
   "source": [
    "### 1.1. pNML Accuracy Vs. Refinement strength (\\lambda)"
   ]
  },
  {
   "cell_type": "code",
   "execution_count": 2,
   "metadata": {},
   "outputs": [],
   "source": [
    "natural_acc_vs_lambda_res_path = \"l\"\n",
    "pgd_acc_vs_lambda_res_path = \"\""
   ]
  },
  {
   "cell_type": "markdown",
   "metadata": {},
   "source": [
    "### 1.2.  Accuracy Vs. attack strength (\\epsilon); with\\ without  pNML "
   ]
  },
  {
   "cell_type": "code",
   "execution_count": 3,
   "metadata": {},
   "outputs": [],
   "source": [
    "pgd_nopnml_diff_eps_path = \"./results/imagenet/imagenet_pgd_diff_eps\"\n",
    "pgd_pnml_diff_eps_path = \"./results/imagenet/imagenet_pgd_diff_eps_pnml_lambda_01176\""
   ]
  },
  {
   "cell_type": "markdown",
   "metadata": {},
   "source": [
    "### 1.3.  Accuracy Vs. Adaptive-attack & PGD-attack strength (\\epsilon)"
   ]
  },
  {
   "cell_type": "code",
   "execution_count": 4,
   "metadata": {},
   "outputs": [],
   "source": [
    "adaptive_diff_eps_path = \"./results/imagenet/imagenet_adaptive\""
   ]
  },
  {
   "cell_type": "markdown",
   "metadata": {},
   "source": [
    "# 2. Results"
   ]
  },
  {
   "cell_type": "code",
   "execution_count": null,
   "metadata": {},
   "outputs": [],
   "source": []
  },
  {
   "cell_type": "markdown",
   "metadata": {},
   "source": [
    "### 2.1. pNML Accuracy Vs. Refinement strength (\\lambda)"
   ]
  },
  {
   "cell_type": "code",
   "execution_count": null,
   "metadata": {},
   "outputs": [],
   "source": [
    "\n"
   ]
  },
  {
   "cell_type": "code",
   "execution_count": 5,
   "metadata": {},
   "outputs": [
    {
     "name": "stdout",
     "output_type": "stream",
     "text": [
      "c:\\Users\\uria\\vmplayer_shared\\Pnml_code\\deep_pnml\n"
     ]
    },
    {
     "data": {
      "text/plain": [
       "True"
      ]
     },
     "execution_count": 5,
     "metadata": {},
     "output_type": "execute_result"
    }
   ],
   "source": [
    "print(pathlib.Path('.').absolute())\n",
    "l = \"./output\"\n",
    "p = pathlib.Path(l)\n",
    "p.exists()"
   ]
  },
  {
   "cell_type": "markdown",
   "metadata": {},
   "source": [
    "### 2.3 Accuracy Vs. Adaptive-attack & PGD-attack strength"
   ]
  },
  {
   "cell_type": "code",
   "execution_count": 10,
   "metadata": {},
   "outputs": [
    {
     "name": "stdout",
     "output_type": "stream",
     "text": [
      "Used samples 5000\n",
      "[WindowsPath('results/imagenet/imagenet_adaptive/imagenet_adaptive_eps_0156'), WindowsPath('results/imagenet/imagenet_adaptive/imagenet_adaptive_eps_0313'), WindowsPath('results/imagenet/imagenet_adaptive/imagenet_adaptive_eps_0627')]\n",
      "param_path: results\\imagenet\\imagenet_adaptive\\imagenet_adaptive_eps_0156\\imagenet_adversarial_results_20200504_201730\\params.json param_path_l: ['results\\\\imagenet\\\\imagenet_adaptive\\\\imagenet_adaptive_eps_0156\\\\imagenet_adversarial_results_20200504_201730\\\\params.json']\n",
      "param_path: results\\imagenet\\imagenet_adaptive\\imagenet_adaptive_eps_0156\\imagenet_adversarial_results_20200504_201822\\params.json param_path_l: ['results\\\\imagenet\\\\imagenet_adaptive\\\\imagenet_adaptive_eps_0156\\\\imagenet_adversarial_results_20200504_201822\\\\params.json']\n",
      "param_path: results\\imagenet\\imagenet_adaptive\\imagenet_adaptive_eps_0156\\imagenet_adversarial_results_20200504_201928\\params.json param_path_l: ['results\\\\imagenet\\\\imagenet_adaptive\\\\imagenet_adaptive_eps_0156\\\\imagenet_adversarial_results_20200504_201928\\\\params.json']\n",
      "param_path: results\\imagenet\\imagenet_adaptive\\imagenet_adaptive_eps_0156\\imagenet_adversarial_results_20200504_201956\\params.json param_path_l: ['results\\\\imagenet\\\\imagenet_adaptive\\\\imagenet_adaptive_eps_0156\\\\imagenet_adversarial_results_20200504_201956\\\\params.json']\n",
      "param_path: results\\imagenet\\imagenet_adaptive\\imagenet_adaptive_eps_0313\\imagenet_adversarial_results_20200506_153517\\params.json param_path_l: ['results\\\\imagenet\\\\imagenet_adaptive\\\\imagenet_adaptive_eps_0313\\\\imagenet_adversarial_results_20200506_153517\\\\params.json']\n",
      "param_path: results\\imagenet\\imagenet_adaptive\\imagenet_adaptive_eps_0627\\imagenet_adversarial_results_20200507_144157\\params.json param_path_l: ['results\\\\imagenet\\\\imagenet_adaptive\\\\imagenet_adaptive_eps_0627\\\\imagenet_adversarial_results_20200507_144157\\\\params.json']\n",
      "param_path: results\\imagenet\\imagenet_pgd_diff_eps_pnml_lambda_01176\\imagenet_adversarial_results_20200503_222005\\params.json param_path_l: ['results\\\\imagenet\\\\imagenet_pgd_diff_eps_pnml_lambda_01176\\\\imagenet_adversarial_results_20200503_222005\\\\params.json']\n",
      "param_path: output\\imagenet_pgd_diff_eps\\imagenet_pgd_no_pnml\\params.json param_path_l: ['output\\\\imagenet_pgd_diff_eps\\\\imagenet_pgd_no_pnml\\\\params.json']\n",
      "param_path: results\\imagenet\\imagenet_pgd_diff_eps_pnml_lambda_01176\\imagenet_adversarial_results_20200503_222127\\params.json param_path_l: ['results\\\\imagenet\\\\imagenet_pgd_diff_eps_pnml_lambda_01176\\\\imagenet_adversarial_results_20200503_222127\\\\params.json']\n",
      "param_path: output\\imagenet_pgd_diff_eps\\imagenet_adversarial_results_20200503_121516\\params.json param_path_l: ['output\\\\imagenet_pgd_diff_eps\\\\imagenet_adversarial_results_20200503_121516\\\\params.json']\n",
      "param_path: results\\imagenet\\imagenet_pgd_diff_eps_pnml_lambda_01176\\imagenet_adversarial_results_20200503_222218\\params.json param_path_l: ['results\\\\imagenet\\\\imagenet_pgd_diff_eps_pnml_lambda_01176\\\\imagenet_adversarial_results_20200503_222218\\\\params.json']\n",
      "param_path: output\\imagenet_pgd_diff_eps\\imagenet_adversarial_results_20200503_121519\\params.json param_path_l: ['output\\\\imagenet_pgd_diff_eps\\\\imagenet_adversarial_results_20200503_121519\\\\params.json']\n",
      "param_path: results\\imagenet\\imagenet_pgd_diff_eps_pnml_lambda_01176\\imagenet_adversarial_results_20200503_222254\\params.json param_path_l: ['results\\\\imagenet\\\\imagenet_pgd_diff_eps_pnml_lambda_01176\\\\imagenet_adversarial_results_20200503_222254\\\\params.json']\n",
      "param_path: output\\imagenet_pgd_diff_eps\\imagenet_adversarial_results_20200503_121523\\params.json param_path_l: ['output\\\\imagenet_pgd_diff_eps\\\\imagenet_adversarial_results_20200503_121523\\\\params.json']\n",
      "param_path: results\\imagenet\\imagenet_pgd_diff_eps_pnml_lambda_01176\\imagenet_adversarial_results_20200503_222320\\params.json param_path_l: ['results\\\\imagenet\\\\imagenet_pgd_diff_eps_pnml_lambda_01176\\\\imagenet_adversarial_results_20200503_222320\\\\params.json']\n",
      "param_path: output\\imagenet_pgd_diff_eps\\imagenet_adversarial_results_20200503_121527\\params.json param_path_l: ['output\\\\imagenet_pgd_diff_eps\\\\imagenet_adversarial_results_20200503_121527\\\\params.json']\n",
      "param_path: results\\imagenet\\imagenet_pgd_diff_eps_pnml_lambda_01176\\imagenet_adversarial_results_20200503_222402\\params.json param_path_l: ['results\\\\imagenet\\\\imagenet_pgd_diff_eps_pnml_lambda_01176\\\\imagenet_adversarial_results_20200503_222402\\\\params.json']\n",
      "param_path: output\\imagenet_pgd_diff_eps\\imagenet_adversarial_results_20200503_121531\\params.json param_path_l: ['output\\\\imagenet_pgd_diff_eps\\\\imagenet_adversarial_results_20200503_121531\\\\params.json']\n"
     ]
    },
    {
     "data": {
      "image/png": "[encoded data removed]",
      "text/plain": [
       "<Figure size 460.8x316.8 with 1 Axes>"
      ]
     },
     "metadata": {},
     "output_type": "display_data"
    },
    {
     "name": "stdout",
     "output_type": "stream",
     "text": [
      "df_pgd_pnml:\n",
      "      acc      epsilon  mean loss std loss mean entropy   lambda\n",
      "0   0.598     0.007842  1.5561951      NaN          NaN  0.01176\n",
      "1  0.4856  0.015686275  1.9549279      NaN          NaN  0.01176\n",
      "2  0.3416  0.023529412  2.4597359      NaN          NaN  0.01176\n",
      "3  0.2186  0.031372549  3.1478387      NaN          NaN  0.01176\n",
      "4  0.0646  0.047058824   5.400591      NaN          NaN  0.01176\n",
      "5  0.0148  0.062745098  8.6159766      NaN          NaN  0.01176\n",
      "df_adaptive:\n",
      "    acc      epsilon  mean loss std loss mean entropy   lambda\n",
      "0  0.45  0.015686275  2.2692346      NaN          NaN  0.01176\n",
      "1  0.19  0.031372549  3.6869852      NaN          NaN  0.01176\n",
      "2  0.02  0.062745098  8.1615009      NaN          NaN  0.01176\n"
     ]
    }
   ],
   "source": [
    "indices = [i for i in range(0, 4999+1, 1)]\n",
    "print(\"Used samples {}\".format(len(indices)))\n",
    "subdir_list = analyze_utilities_v2.get_subdir_list(adaptive_diff_eps_path)\n",
    "print(subdir_list)\n",
    "df_adaptive = analyze_utilities_v2.results_dirs_to_df(subdir_list)\n",
    "df_adaptive = df_adaptive.sort_values(\"epsilon\", ignore_index=True).sort_values(\"epsilon\", ignore_index=True)\n",
    "\n",
    "# subdir_list = analyze_utilities_v2.get_subdir_list(pgd_nopnml_diff_eps_path)\n",
    "# df_pgd_nopnml = analyze_utilities_v2.results_dirs_to_df(subdir_list, indices).sort_values(\"epsilon\", ignore_index=True)\n",
    "\n",
    "\n",
    "subdir_list = analyze_utilities_v2.get_subdir_list(pgd_pnml_diff_eps_path)\n",
    "df_pgd_pnml = analyze_utilities_v2.results_dirs_to_df(subdir_list, indices).sort_values(\"epsilon\", ignore_index=True)\n",
    "\n",
    "plt.figure(0)\n",
    "plt.plot(df_adaptive['epsilon'], df_adaptive['acc'], 'go--', label='Adaptive')\n",
    "plt.plot(df_pgd_pnml.loc[df_pgd_pnml['epsilon'].isin(df_adaptive['epsilon']), 'epsilon'],\n",
    "         df_pgd_pnml.loc[df_pgd_pnml['epsilon'].isin(df_adaptive['epsilon']), 'acc'], 'bo--', label='PGD')\n",
    "plt.legend(fontsize=12, ncol=1, loc=1)\n",
    "plt.xlabel('Attack strength')\n",
    "plt.ylabel('Accuracy')\n",
    "plt.savefig(os.path.join(output_path, 'adaptive_vs_pgd.pdf'), dpi=200,\n",
    "            bbox_inches=plt.tight_layout()) if is_save_fig else None\n",
    "plt.show()\n",
    "# print(\"df_pgd_nopnml:\\n\" + str(df_pgd_nopnml))\n",
    "print(\"df_pgd_pnml:\\n\" + str(df_pgd_pnml))\n",
    "print(\"df_adaptive:\\n\" + str(df_adaptive))\n",
    "\n",
    "\n",
    "      "
   ]
  }
 ],
 "metadata": {
  "kernelspec": {
   "display_name": "Python 3",
   "language": "python",
   "name": "python3"
  },
  "language_info": {
   "codemirror_mode": {
    "name": "ipython",
    "version": 3
   },
   "file_extension": ".py",
   "mimetype": "text/x-python",
   "name": "python",
   "nbconvert_exporter": "python",
   "pygments_lexer": "ipython3",
   "version": "3.8.2"
  },
  "pycharm": {
   "stem_cell": {
    "cell_type": "raw",
    "metadata": {
     "collapsed": false
    },
    "source": []
   }
  }
 },
 "nbformat": 4,
 "nbformat_minor": 4
}
