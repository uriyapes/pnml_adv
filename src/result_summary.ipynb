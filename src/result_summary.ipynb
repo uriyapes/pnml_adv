{
 "cells": [
  {
   "cell_type": "markdown",
   "metadata": {},
   "source": [
    "# Result summary notebook\n",
    "This notebook explains what experimnet was done on each of the output and organizes the products in list so it can be used analyze_resulse.ipynb"
   ]
  },
  {
   "cell_type": "markdown",
   "metadata": {},
   "source": [
    "### NML on Cifar10"
   ]
  },
  {
   "cell_type": "markdown",
   "metadata": {},
   "source": [
    "Running the PNML on cifar10 dataset. Strating from pretrained resnet20 from https://github.com/akamaster/pytorch_resnet_cifar10. \n",
    "For each label, the model is trained for 10 epochs. "
   ]
  },
  {
   "cell_type": "markdown",
   "metadata": {},
   "source": [
    "* Training only 2 last layers for each label"
   ]
  },
  {
   "cell_type": "code",
   "execution_count": 1,
   "metadata": {},
   "outputs": [],
   "source": [
    "files_nml_2_layers = ['../output/NML_results_20181025_092911/results_TMP_20181025_092911.json',  # 000-099\n",
    "                      '../output/NML_results_20181025_092956/results_TMP_20181025_092956.json',  # 100-199\n",
    "                      '../output/NML_results_20181025_093002/results_TMP_20181025_093002.json',  # 200-299\n",
    "                      '../output/NML_results_20181025_093009/results_TMP_20181025_093009.json',  # 300-399\n",
    "                      '../output/NML_results_20181025_124946/results_NML_20181025_124946.json',  # 400-499\n",
    "                      '../output/NML_results_20181025_125050/results_NML_20181025_125050.json',  # 500-599\n",
    "                      '../output/NML_results_20181025_125116/results_NML_20181025_125116.json',  # 600-699\n",
    "                      '../output/NML_results_20181025_125155/results_NML_20181025_125155.json',  # 700-799\n",
    "                      '../output/NML_results_20181025_125239/results_NML_20181025_125239.json',  # 800-899\n",
    "                      '../output/NML_results_20181025_125317/results_NML_20181025_125317.json',  # 900-999\n",
    "                      '../output/NML_results_20181025_125338/results_NML_20181025_125338.json',  # 1000-1099\n",
    "                      '../output/NML_results_20181025_125346/results_NML_20181025_125346.json',  # 1100-1199\n",
    "                      '../output/NML_results_20181103_100446/results_NML_20181103_100446.json',\n",
    "                      '../output/NML_results_20181103_101701/results_NML_20181103_101701.json',\n",
    "                      '../output/NML_results_20181103_101706/results_NML_20181103_101706.json',\n",
    "                      '../output/NML_results_20181103_103117/results_NML_20181103_103117.json',\n",
    "                      '../output/NML_results_20181103_103136/results_NML_20181103_103136.json',\n",
    "                      '../output/NML_results_20181103_103143/results_NML_20181103_103143.json',\n",
    "                      '../output/NML_results_20181103_103157/results_NML_20181103_103157.json',\n",
    "                      '../output/NML_results_20181103_100454/results_NML_20181103_100454.json',\n",
    "                      '../output/NML_results_20181103_100511/results_NML_20181103_100511.json',\n",
    "                      '../output/NML_results_20181103_100517/results_NML_20181103_100517.json',\n",
    "                      '../output/NML_results_20181103_101004/results_NML_20181103_101004.json',\n",
    "                      '../output/NML_results_20181103_101010/results_NML_20181103_101010.json',\n",
    "                      '../output/NML_results_20181103_101018/results_NML_20181103_101018.json',\n",
    "                      '../output/NML_results_20181103_101024/results_NML_20181103_101024.json',\n",
    "                      '../output/NML_results_20181103_101629/results_NML_20181103_101629.json',\n",
    "                      '../output/NML_results_20181103_101648/results_NML_20181103_101648.json',\n",
    "                      '../output/NML_results_20181103_104552/results_NML_20181103_104552.json']\n"
   ]
  },
  {
   "cell_type": "markdown",
   "metadata": {},
   "source": [
    "* Training only 5 last layers for each label"
   ]
  },
  {
   "cell_type": "code",
   "execution_count": 2,
   "metadata": {},
   "outputs": [],
   "source": [
    "files_nml_5_layers = ['../output/NML_results_20181028_115754/results_NML_20181028_115754.json']\n"
   ]
  },
  {
   "cell_type": "markdown",
   "metadata": {},
   "source": [
    "* Training all the 7 layers"
   ]
  },
  {
   "cell_type": "code",
   "execution_count": 3,
   "metadata": {},
   "outputs": [],
   "source": [
    "files_nml_7_layers = ['../output/NML_results_20180820_084237/results_NML_20180820_084237.json',  # 000-099\n",
    "                      '../output/NML_results_20180815_135021/results_NML_20180815_135021.json',  # 100-199\n",
    "                      '../output/NML_results_20180815_134312/results_NML_20180815_134312.json',  # 200-299\n",
    "                      '../output/NML_results_20180815_134318/results_NML_20180815_134318.json',  # 300-399\n",
    "                      '../output/NML_results_20180815_134413/results_NML_20180815_134413.json',  # 400-499\n",
    "                      '../output/NML_results_20180815_134420/results_NML_20180815_134420.json',  # 500-599\n",
    "                      '../output/NML_results_20180815_134427/results_NML_20180815_134427.json',  # 600-699\n",
    "                      '../output/NML_results_20180815_134449/results_NML_20180815_134449.json',  # 700-799\n",
    "                      '../output/NML_results_20180815_134501/results_NML_20180815_134501.json',  # 800-899\n",
    "                      '../output/NML_results_20180815_134527/results_NML_20180815_134527.json']  # 900-999\n"
   ]
  },
  {
   "cell_type": "markdown",
   "metadata": {},
   "source": [
    "### Out of disterbution\n",
    "Starting from pretrained resenet20 which was trained on cifar10. \n",
    "The test images are not from cifar10."
   ]
  },
  {
   "cell_type": "markdown",
   "metadata": {},
   "source": [
    "#### Noise Images. \n",
    "The test images are noise images. Each pixel generated from gaussin noise. "
   ]
  },
  {
   "cell_type": "code",
   "execution_count": 4,
   "metadata": {},
   "outputs": [],
   "source": [
    "files_noise = ['../output/OutOfDist_Noise_results_20181029_112825/results_OutOfDist_Noise_20181029_112825.json']  # 25-100\n"
   ]
  },
  {
   "cell_type": "markdown",
   "metadata": {},
   "source": [
    "####  SVHN\n",
    "Test images are from http://ufldl.stanford.edu/housenumbers/"
   ]
  },
  {
   "cell_type": "code",
   "execution_count": 5,
   "metadata": {},
   "outputs": [],
   "source": [
    "files_svhn = ['../output/OutOfDist_SVHN_results_20181030_102907/results_OutOfDist_SVHN_20181030_102907.json']\n"
   ]
  },
  {
   "cell_type": "markdown",
   "metadata": {},
   "source": [
    "### CIFAR100"
   ]
  },
  {
   "cell_type": "code",
   "execution_count": 6,
   "metadata": {},
   "outputs": [],
   "source": [
    "files_cifar100 = [\n",
    "    '../output/temp/cifar100/OutOfDist_CIFR100_results_20180814_150859/results_OutOfDist_CIFR100_20180814_150859.json']\n",
    "# '../output/temp/cifar100/OutOfDist_CIFR100_results_20180813_153916/results_OutOfDist_CIFR100_20180813_153916.json',\n"
   ]
  },
  {
   "cell_type": "markdown",
   "metadata": {},
   "source": [
    "### Random labels\n",
    "Training WideResnet Model with cifar10 dataset, however, the labels are assigned with some random probability.\n",
    "The code is based on https://github.com/pluskid/fitting-random-labels#command-examples"
   ]
  },
  {
   "cell_type": "code",
   "execution_count": 4,
   "metadata": {},
   "outputs": [],
   "source": [
    "# 6 epochs and early stopping in 0.999.\n",
    "\n",
    "# Random prob 0.0\n",
    "files_random_0 = [\n",
    "    '../output/random_labels_results_20181127_173715/results_random_labels_20181127_173715.json']  # 0-99\n",
    "\n",
    "# Random prob 0.1\n",
    "files_random_1 = [\n",
    "    '../output/random_labels_results_20181128_081026/results_random_labels_20181128_081026.json']\n",
    "\n",
    "# Random prob 0.2\n",
    "files_random_2 = [\n",
    "    '../output/random_labels_results_20181128_081051/results_random_labels_20181128_081051.json']\n",
    "\n",
    "# Random prob 0.4\n",
    "files_random_3 = [\n",
    "    '../output/random_labels_results_20181128_081112/results_random_labels_20181128_081112.json']\n",
    "\n",
    "# Random prob 0.6\n",
    "files_random_4 = [\n",
    "    '../output/random_labels_results_20181128_081200/results_random_labels_20181128_081200.json']\n",
    "\n",
    "# Random prob 0.8\n",
    "files_random_5 = [\n",
    "    '../output/random_labels_results_20181128_081221/results_random_labels_20181128_081221.json']\n",
    "\n",
    "# Random prob 1.0\n",
    "files_random_6 = [\n",
    "    '../output/random_labels_results_20181128_081241/results_random_labels_20181128_081241.json']\n",
    "\n",
    "files_random = [files_random_0,\n",
    "                # files_random_1,\n",
    "                files_random_2,\n",
    "                files_random_3, files_random_4, files_random_5, files_random_6]\n",
    "# random_prob = [0.0, 0.1, 0.2, 0.4, 0.6, 0.8, 1.0]\n",
    "random_prob = [0.0, 0.2, 0.4, 0.6, 0.8, 1.0]"
   ]
  },
  {
   "cell_type": "markdown",
   "metadata": {},
   "source": [
    "### ERM\n",
    "Running the pretrained model in order to create file in the \"NML\" style"
   ]
  },
  {
   "cell_type": "code",
   "execution_count": 9,
   "metadata": {},
   "outputs": [],
   "source": [
    "files_erm = ['../output/ERM_results_20180813_204946/results_ERM_20180813_204946.json']  # 0-10,000\n"
   ]
  },
  {
   "cell_type": "markdown",
   "metadata": {},
   "source": [
    "### Mnist- Twice uniersality"
   ]
  },
  {
   "cell_type": "code",
   "execution_count": 10,
   "metadata": {},
   "outputs": [],
   "source": [
    "# Training  PNML with 1 layers\n",
    "files_mnist_1_layers = ['../output/NML_Mnist_results_20181121_154857/results_NML_Mnist_20181121_154857.json']  # 0-99\n",
    "\n",
    "# Training PNML with 2 layers\n",
    "files_mnist_2_layers = ['../output/NML_Mnist_results_20181121_155341/results_NML_Mnist_20181121_155341.json']  # 0-99\n"
   ]
  },
  {
   "cell_type": "markdown",
   "metadata": {},
   "source": [
    "# Adversarial Attack"
   ]
  },
  {
   "cell_type": "code",
   "execution_count": 6,
   "metadata": {},
   "outputs": [],
   "source": [
    "files_adversarial_0 = ['../output/adversarial_results_20181229_094917/results_adversarial_20181229_094917.json',\n",
    "                       '../output/adversarial_results_20181229_094951/results_adversarial_20181229_094951.json']\n",
    "files_adversarial_1 = ['../output/adversarial_results_20181229_095011/results_adversarial_20181229_095011.json',\n",
    "                       '../output/adversarial_results_20181229_095049/results_adversarial_20181229_095049.json']\n",
    "files_adversarial_2 = ['../output/adversarial_results_20181229_095454/results_adversarial_20181229_095454.json',\n",
    "                       '../output/adversarial_results_20181229_095521/results_adversarial_20181229_095521.json']\n",
    "files_adversarial_3 = ['../output/adversarial_results_20181229_095532/results_adversarial_20181229_095532.json',\n",
    "                       '../output/adversarial_results_20181229_095544/results_adversarial_20181229_095544.json']\n",
    "\n",
    "files_adversarial = [files_adversarial_0, files_adversarial_1,\n",
    "                     files_adversarial_2, files_adversarial_3,\n",
    "                     files_nml_2_layers]\n",
    "adversarial_epsilon = [0.05, 0.01, 0.005, 0.001, 0]"
   ]
  },
  {
   "cell_type": "code",
   "execution_count": null,
   "metadata": {},
   "outputs": [],
   "source": []
  }
 ],
 "metadata": {
  "kernelspec": {
   "display_name": "Python 3",
   "language": "python",
   "name": "python3"
  },
  "language_info": {
   "codemirror_mode": {
    "name": "ipython",
    "version": 3
   },
   "file_extension": ".py",
   "mimetype": "text/x-python",
   "name": "python",
   "nbconvert_exporter": "python",
   "pygments_lexer": "ipython3",
   "version": "3.6.8"
  },
  "latex_envs": {
   "LaTeX_envs_menu_present": true,
   "autoclose": false,
   "autocomplete": true,
   "bibliofile": "biblio.bib",
   "cite_by": "apalike",
   "current_citInitial": 1,
   "eqLabelWithNumbers": true,
   "eqNumInitial": 1,
   "hotkeys": {
    "equation": "Ctrl-E",
    "itemize": "Ctrl-I"
   },
   "labels_anchors": false,
   "latex_user_defs": false,
   "report_style_numbering": false,
   "user_envs_cfg": false
  },
  "toc": {
   "base_numbering": 1,
   "nav_menu": {},
   "number_sections": true,
   "sideBar": true,
   "skip_h1_title": false,
   "title_cell": "Table of Contents",
   "title_sidebar": "Contents",
   "toc_cell": false,
   "toc_position": {},
   "toc_section_display": true,
   "toc_window_display": true
  }
 },
 "nbformat": 4,
 "nbformat_minor": 2
}
