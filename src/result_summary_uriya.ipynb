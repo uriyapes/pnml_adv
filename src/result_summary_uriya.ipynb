{
 "cells": [
  {
   "cell_type": "code",
   "execution_count": 2,
   "metadata": {},
   "outputs": [
    {
     "name": "stdout",
     "output_type": "stream",
     "text": [
      "Loading paths for pnml training...\n"
     ]
    }
   ],
   "source": [
    "print('Loading paths for pnml training...')\n",
    "files_nml_2_layers_erm = ['./results/mnist_adversarial_results_20190329_121138/results_mnist_adversarial_20190329_121138.json',  # 000-099\n",
    "                      './results/mnist_adversarial_results_20190329_235601/results_mnist_adversarial_20190329_235601.json']\n",
    "\n",
    "files_nml_2_layers_erm_20ep = ['./../results/mnist_adv_results_0_200_20ep/mnist_adversarial_results_20190330_223119/results_mnist_adversarial_20190330_223119.json',  # 000-099\n",
    "                      './../results/mnist_adv_results_0_200_20ep/100-199/results_mnist_adversarial_20190330_224409.json']\n",
    "\n",
    "files_nml_2_layers_adv_learn_10ep = ['./../results/results3/mnist_adversarial_results_20190331_185018/results_mnist_adversarial_20190331_185018.json',  # 000-099\n",
    "                      './../results/results3/mnist_adversarial_results_20190331_185328/results_mnist_adversarial_20190331_185328.json']\n",
    "\n",
    "files_nml_2_layers_adv_learn_genie_only = ['./../results/genie_only/mnist_adversarial_results_20190401_132921/results_mnist_adversarial_20190401_132921.json',  # 000-099\n",
    "                      './../results/genie_only/mnist_adversarial_results_20190401_132921/results_mnist_adversarial_20190401_132921.json']\n",
    "\n",
    "files_nml_2_layers_adv_20ep = ['./../results/results_adv_train_20ep/mnist_adversarial_results_20190401_053052/results_mnist_adversarial_20190401_053052.json',  # 000-099\n",
    "                      './../results/results_adv_train_20ep/mnist_adversarial_results_20190401_053254/results_mnist_adversarial_20190401_053254.json',\n",
    "                     './../results/results_adv_train_20ep/mnist_adversarial_results_20190401_053422/results_mnist_adversarial_20190401_053422.json']\n",
    "\n",
    "files_nml_2_layers_adv_strong_loss_test_sample = ['./../results/genie_only/test_sample_increased_loss/mnist_adversarial_results_20190401_222013/results_mnist_adversarial_20190401_222013.json']  # 000-099\n",
    "\n",
    "# Those results are with increased test_sample loss\n",
    "results_df_list=['./../results/genie_only/deep_model/ep_0.05_lr_0.01_ep_40/results_mnist_adversarial_20190402_003037.json']\n",
    "results_df_list=['./../results/genie_only/deep_model/ep_0.25_lr_0.01_ep40/results_mnist_adversarial_20190402_004655.json']\n",
    "results_df_list=['./../results/genie_only/deep_model/ep_0.25_lr_0.01_ep_70_initep_130/results_mnist_adversarial_20190402_011507.json']\n",
    "\n",
    "# Deep model with normal LR genie\n",
    "results_df_list=['./../results/genie_only/lr_0.01_40ep/results_mnist_adversarial_20190402_121453.json']\n",
    "results_df_list=['./../results/genie_only/lr_0.001_ep40/results_mnist_adversarial_20190402_121546.json']\n",
    "\n",
    "# Deep model with normal LR \n",
    "files_nml_2_layers=['./../results/deep_net/output/mnist_adversarial_results_20190402_124547/results_mnist_adversarial_20190402_124547.json',\n",
    "                './../results/deep_net/output/mnist_adversarial_results_20190402_153835/results_mnist_adversarial_20190402_153835.json',\n",
    "                './../results/deep_net/output/mnist_adversarial_results_20190402_153939/results_mnist_adversarial_20190402_153939.json',\n",
    "                './../results/deep_net/output/mnist_adversarial_results_20190402_124510/results_mnist_adversarial_20190402_124510.json']\n",
    "\n",
    "# Deep model with normal LR =0.001 10 epochs, 100 samples\n",
    "files_nml_2_layers =['./../results/deep_net/output/mnist_adversarial_results_20190402_170452/results_mnist_adversarial_20190402_170452.json',\n",
    "                './../results/deep_net/output/mnist_adversarial_results_20190402_170656/results_mnist_adversarial_20190402_170656.json',\n",
    "                './../results/deep_net/output/mnist_adversarial_results_20190402_170738/results_mnist_adversarial_20190402_170738.json',\n",
    "                './../results/deep_net/output/mnist_adversarial_results_20190402_170812/results_mnist_adversarial_20190402_170812.json']\n",
    "\n",
    "# Deep model with normal LR =0.001 10 epochs, 600 samples\n",
    "files_nml_2_layers2 =['./../results/deep_net/output/mnist_adversarial_results_20190402_170452/results_mnist_adversarial_20190402_170452.json',\n",
    "                './../results/deep_net/output/mnist_adversarial_results_20190402_170656/results_mnist_adversarial_20190402_170656.json',\n",
    "                './../results/deep_net/output/mnist_adversarial_results_20190402_170738/results_mnist_adversarial_20190402_170738.json',\n",
    "                './../results/deep_net/output/mnist_adversarial_results_20190402_170812/results_mnist_adversarial_20190402_170812.json',\n",
    "                    './../results/deep_net/output/mnist_adversarial_results_20190402_233012/results_mnist_adversarial_20190402_233012.json',\n",
    "                    './../results/deep_net/output/mnist_adversarial_results_20190402_233100/results_mnist_adversarial_20190402_233100.json',\n",
    "                    './../results/deep_net/output/mnist_adversarial_results_20190402_233145/results_mnist_adversarial_20190402_233145.json',\n",
    "                    './../results/deep_net/output/mnist_adversarial_results_20190402_233318/results_mnist_adversarial_20190402_233318.json',\n",
    "                    './../results/deep_net/output/mnist_adversarial_results_20190402_233424/results_mnist_adversarial_20190402_233424.json']\n",
    "\n",
    "# Deep model with normal LR =0.001 16 epochs\n",
    "files_nml_2_layers =['./../results/deep_net/lr_0.001_ep_16/mnist_adversarial_results_20190404_130659/results_mnist_adversarial_20190404_130659.json',\n",
    "                './../results/deep_net/lr_0.001_ep_16/mnist_adversarial_results_20190404_130840/results_mnist_adversarial_20190404_130840.json',\n",
    "                './../results/deep_net/lr_0.001_ep_16/mnist_adversarial_results_20190404_131448/results_mnist_adversarial_20190404_131448.json',\n",
    "                './../results/deep_net/lr_0.001_ep_16/mnist_adversarial_results_20190404_131904/results_mnist_adversarial_20190404_131904.json']\n",
    "\n",
    "# Deep model with normal LR =0.001, step=8, 16 epochs genie\n",
    "files_nml_2_layers2=['./../results/genie_only/deep_model/lr_0.001_ep_16/mnist_adversarial_results_20190407_221603/results_mnist_adversarial_20190407_221603.json']\n",
    "# bad genie\n",
    "files_nml_2_layers2 = ['./../results/genie_only/deep_model/lr_0.001_ep_8/results_mnist_adversarial_20190407_153226.json']\n",
    "\n",
    "files_nml_2_layers2 = ['./../results/genie_only/deep_model/lr_0.001_ep_10/results_mnist_adversarial_20190407_211336.json']\n",
    "\n",
    "files_nml_2_layers2 = ['./../results/genie_only/deep_model/lr_0.001_ep_20/results_mnist_adversarial_20190408_083254.json']\n",
    "\n",
    "files_nml_2_layers2 = ['./../results/genie_only/deep_model/lr_0.001_ep_20_b/results_mnist_adversarial_20190408_150117.json']\n",
    "\n",
    "files_nml_2_layers2 = ['./../results/genie_only/deep_model/lr_0.001_ep_10_othermodel/mnist_adversarial_results_20190411_151858/results_mnist_adversarial_20190411_151858.json']\n",
    "\n",
    "files_nml_2_layers2=['./../results/deep_net/lr_0.005_ep_20_step_1_5_10_15/results_mnist_adversarial_20190408_180502.json']\n",
    "\n",
    "# Deep model with adversarial loss for the test sample\n",
    "files_mnist_2_layers = ['./../results/deep_net/lr_0.001_ep_10/mnist_adversarial_results_20190410_225539/results_mnist_adversarial_20190410_225539.json',\n",
    "                './../results/deep_net/lr_0.001_ep_10/mnist_adversarial_results_20190410_225558/results_mnist_adversarial_20190410_225558.json',\n",
    "                './../results/deep_net/lr_0.001_ep_10/mnist_adversarial_results_20190410_225630/results_mnist_adversarial_20190410_225630.json',\n",
    "                './../results/deep_net/lr_0.001_ep_10/mnist_adversarial_results_20190410_225652/results_mnist_adversarial_20190410_225652.json']\n",
    "\n",
    "# Deep model B with no adversarial loss, epochs = 10 lr=0.001, with shuffling, epsilon=0.25\n",
    "files_mnist_1_layers = ['./../results/deep_net/lr_0.001_ep_10_model_b/mnist_adversarial_results_20190411_163253/results_mnist_adversarial_20190411_163253.json',\n",
    "                './../results/deep_net/lr_0.001_ep_10_model_b/mnist_adversarial_results_20190411_163340/results_mnist_adversarial_20190411_163340.json',\n",
    "                './../results/deep_net/lr_0.001_ep_10_model_b/mnist_adversarial_results_20190411_163412/results_mnist_adversarial_20190411_163412.json',\n",
    "                './../results/deep_net/lr_0.001_ep_10_model_b/mnist_adversarial_results_20190411_163510/results_mnist_adversarial_20190411_163510.json']\n",
    "\n"
   ]
  },
  {
   "cell_type": "markdown",
   "metadata": {},
   "source": [
    "### Twice universality\n",
    "results explaination:\n",
    "\n",
    "Each run is saved in a different folder and contains the first 100 idx. \n",
    "The folder name indicates which model was used for testing and which model was used to generate the adversarial set - \n",
    "* Folders names format: M<model index used for testing><model index used for adversarial attack>\n",
    "\n",
    "The model index are the following:\n",
    "1 - \"./models/mnist_adversarial_model_eps0.25_ep101_seed_1_shuffle.pt\"  - \tepsilon= 0.25\n",
    "2 - \"./models/deep_net/ep_101_eps_0.1/mnist_model_seed_1_shuffle.pt\" - \t\tepsilon= 0.1\n",
    "3 - \"./models/deep_net/ep_101_eps_0/mnist_adversarial_model_0.000579.pt\" - \tepsilon= 0\n",
    "4 - \"./models/deep_net/ep_101_eps_0/mnist_adversarial_model_0.000579.pt\" - \tepsilon= 0.15"
   ]
  },
  {
   "cell_type": "code",
   "execution_count": 3,
   "metadata": {},
   "outputs": [],
   "source": [
    "print('loading paths for Twice universality with FGSM...')\n",
    "M11_path = ['./../results/deep_net/twice_univ/M11/results_mnist_adversarial_20190416_164500.json']\n",
    "M12_path = ['./../results/deep_net/twice_univ/M12/results_mnist_adversarial_20190416_164641.json']\n",
    "M13_path = ['./../results/deep_net/twice_univ/M13/results_mnist_adversarial_20190416_164806.json']\n",
    "M14_path = ['./../results/deep_net/twice_univ/M14A/results_mnist_adversarial_20190417_153920.json',\n",
    "           './../results/deep_net/twice_univ/M14B/results_mnist_adversarial_20190417_153958.json']\n",
    "M21_path = ['./../results/deep_net/twice_univ/M21/results_mnist_adversarial_20190416_165007.json']\n",
    "M22_path = ['./../results/deep_net/twice_univ/M22/results_mnist_adversarial_20190416_165127.json']\n",
    "M23_path = ['./../results/deep_net/twice_univ/M23/results_mnist_adversarial_20190416_165303.json']\n",
    "M24_path = ['./../results/deep_net/twice_univ/M24A/results_mnist_adversarial_20190417_154137.json',\n",
    "           './../results/deep_net/twice_univ/M24B/results_mnist_adversarial_20190417_154214.json']\n",
    "# M31 = ['./../results/deep_net/twice_univ/M31/results_mnist_adversarial_20190416_005537.json']\n",
    "# M32 = ['./../results/deep_net/twice_univ/M32/results_mnist_adversarial_20190416_014245.json']\n",
    "# M33 = ['./../results/deep_net/twice_univ/M33/results_mnist_adversarial_20190416_005722.json']\n",
    "\n",
    "M1_list = [M11_path, M12_path, M14_path]\n",
    "M2_list = [M21_path, M22_path, M24_path]"
   ]
  },
  {
   "cell_type": "markdown",
   "metadata": {},
   "source": [
    "# PNML for refine adversairal\n",
    "In this section we test PNML for MNIST adversarial images who were refined, each picture is corrected towards the assumed label and then PNML output the probability. The refinement can be done in the same way the attack is preformed but usually with a lower epsilon."
   ]
  },
  {
   "cell_type": "code",
   "execution_count": 4,
   "metadata": {},
   "outputs": [],
   "source": [
    "# Test 20 samples, ERM is trained over 1 epoch\n",
    "refine_path1 = ['./../output/mnist_adversarial_results_20190618_014440/results_mnist_adversarial_20190618_014440.json']\n",
    "# Test 20 samples, ERM is dummy since LR=0 at that stage.\n",
    "refine_path2 = ['./../output/mnist_adversarial_results_20190618_135006/results_mnist_adversarial_20190618_135006.json']\n",
    "# 200 samples,  ERM is dummy since LR=0 at that stage, strong refinement\n",
    "refine_path3 = ['./../output/mnist_adversarial_results_20190618_152937/results_mnist_adversarial_20190618_152937.json']\n",
    "# 200 samples,  ERM is dummy since LR=0 at that stage, medium refinement (eps=0.3, 3 iter, 5 starts)\n",
    "refine_path4 = ['./../output/mnist_adversarial_results_20190618_163150/results_mnist_adversarial_20190618_163150.json']\n",
    "# 200 samples,  ERM is dummy since LR=0 at that stage, random refinement (eps=0.03)\n",
    "refine_path5 = ['./../output/mnist_adversarial_results_20190618_164215/results_mnist_adversarial_20190618_164215.json']\n",
    "# 200 samples,  ERM is dummy since LR=0 at that stage, strong random refinement (eps=0.15)\n",
    "refine_path6 = ['./../output/mnist_adversarial_results_20190618_164854/results_mnist_adversarial_20190618_164854.json']\n",
    "# 200 samples,  ERM is dummy since LR=0 at that stage, strong PGD refinement (eps=0.15, 20 iter, 20 starts)\n",
    "refine_path7 = ['./../output/mnist_adversarial_results_20190618_165233/results_mnist_adversarial_20190618_165233.json']\n",
    "# 200 samples,  ERM is dummy since LR=0 at that stage, strong PGD refinement (eps=0.10, 20 iter, 20 starts)\n",
    "refine_path8 = ['./../output/mnist_adversarial_results_20190618_172731/results_mnist_adversarial_20190618_172731.json']\n",
    "# 200 samples,  ERM is dummy since LR=0 at that stage, weak PGD refinement (eps=0.03, 2 iter, 4 starts)\n",
    "refine_path9 = ['./../output/mnist_adversarial_results_20190618_182224/results_mnist_adversarial_20190618_182224.json']\n",
    "# 200 samples,  ERM is dummy since LR=0 at that stage,  strong random refinement (eps=0.1, 0 iter, 500 starts)\n",
    "refine_path10 = ['./../output/mnist_adversarial_results_20190618_182943/results_mnist_adversarial_20190618_182943.json']\n",
    "# 200 samples,  ERM is dummy since LR=0 at that stage,  strong pgd refinement (eps=0.15, 40 iter, 40 starts, step=0.005)\n",
    "refine_path11= ['./../output/mnist_adversarial_results_20190618_205535/results_mnist_adversarial_20190618_205535.json']\n",
    "# 200 samples,  ERM is dummy since LR=0 at that stage,  reverse pgd refinement (eps=0.3, 40 iter, 1 starts non-random, step=0.01)\n",
    "refine_path12= ['./../output/mnist_adversarial_results_20190619_132816/results_mnist_adversarial_20190619_132816.json']\n",
    "# 200 samples,  ERM is dummy since LR=0 at that stage,  reverse pgd refinement (eps=0.1, 4 iter, 1 starts non-random, step=0.025, attack 60-restarts)\n",
    "refine_path13= ['./../output/mnist_adversarial_results_20190619_145404/results_mnist_adversarial_20190619_145404.json']\n",
    "# 200 samples,  ERM is dummy since LR=0 at that stage,  reverse pgd refinement (eps=0.1, 40 iter, 60 starts, step=0.025, attack 60-restarts)\n",
    "refine_path14= ['./../output/mnist_adversarial_results_20190619_164340/results_mnist_adversarial_20190619_164340.json']\n",
    "# 200 samples,  ERM is dummy since LR=0 at that stage,  reverse pgd refinement (eps=0.01, 20 iter, 10 starts, step=0.001)\n",
    "refine_path15= ['./../output/mnist_adversarial_results_20190619_195931/results_mnist_adversarial_20190619_195931.json']\n",
    "# 200 samples,  ERM is dummy since LR=0 at that stage,  reverse pgd refinement (eps=0.02, 30 iter, 10 starts, step=0.001)\n",
    "refine_path16= ['./../output/mnist_adversarial_results_20190619_202801/results_mnist_adversarial_20190619_202801.json']\n",
    "# 200 samples,  ERM is dummy since LR=0 at that stage,  reverse pgd refinement (eps=0.025, 30 iter, 10 starts, step=0.002)\n",
    "refine_path17= ['./../output/mnist_adversarial_results_20190619_210652/results_mnist_adversarial_20190619_210652.json']\n",
    "# 200 samples,  ERM is dummy since LR=0 at that stage,  reverse pgd refinement (eps=0.023, 30 iter, 10 starts, step=0.002)\n",
    "pgd_pgd_pgd1= ['./../output/mnist_adversarial_results_20190619_214049/results_mnist_adversarial_20190619_214049.json']\n",
    "# 200 samples,  ERM is dummy since LR=0 at that stage,  reverse pgd refinement (eps=0.021, 30 iter, 10 starts, step=0.002)\n",
    "refine_path19= ['./../output/mnist_adversarial_results_20190619_222200/results_mnist_adversarial_20190619_222200.json']\n",
    "\n",
    "# 200 samples,  ERM is dummy since LR=0 at that stage,  reverse fgsm refinement (eps=0.1) for pgd attack(0.4 , 40 iter ,1 non random)\n",
    "pgd_pgd_fgsm3  = ['./../output/mnist_adversarial_results_20190620_162836/results_mnist_adversarial_20190620_162836.json']\n",
    "# 200 samples,  ERM is dummy since LR=0 at that stage,  reverse fgsm refinement (eps=0.1) for pgd attack(0.35 , 40 iter ,20 random starts)\n",
    "pgd_pgd_fgsm2 = ['./../output/mnist_adversarial_results_20190620_172247/results_mnist_adversarial_20190620_172247.json']\n",
    "# 200 samples,  ERM is dummy, model trained with PGD same as attack (eps =0.35),reverse fgsm refinement (eps=0.1) for pgd attack(0.35 , 40 iter ,20 random starts)\n",
    "pgd_pgd_fgsm1 = ['./../output/mnist_adversarial_results_20190626_184708/results_mnist_adversarial_20190626_184708.json']\n",
    "\n",
    "# 200 samples,  ERM is dummy, model trained with PGD same as attack (eps =0.3),reverse fgsm refinement (eps=0.1) for pgd attack(0.35 , 40 iter ,20 random starts)\n",
    "pgd_pgd_fgsm4 = ['./../output/mnist_adversarial_results_20190629_144236/results_mnist_adversarial_20190629_144236.json']\n",
    "# some improvment 200 samples, pgd_trained (eps=0.3), random refinement (eps=0.1) , attack(eps = 0.3)\n",
    "pgd_rnd1= ['./../output/mnist_adversarial_results_20190630_113735/results_mnist_adversarial_20190630_113735.json']\n",
    "\n",
    "\n",
    "# 200 samples,  ERM is dummy since LR=0 at that stage,  reverse fgsm refinement (eps=0.1) , same as attack\n",
    "pgd_fgsm_fgsm1= ['./../output/mnist_adversarial_results_20190620_153626/results_mnist_adversarial_20190620_153626.json']\n",
    "# 200 samples,  fgsm model(eps=0.3),  reverse pgd refinement (eps=0.02, 10 iter 0.002step, 10 rndstarts) , pgd attack(eps=0.3)\n",
    "fgsm_pgd1 = ['./../output/mnist_adversarial_results_20190630_121714/results_mnist_adversarial_20190630_121714.json']\n",
    "# 200 samples,  fgsm model(eps=0.3),  reverse pgd refinement (eps=0.1, 10 iter 0.02step, 10 rndstarts) , pgd attack(eps=0.3)\n",
    "fgsm_pgd2 = ['./../output/mnist_adversarial_results_20190630_132730/results_mnist_adversarial_20190630_132730.json']\n",
    "\n",
    "# Very good results 200 samples,  ERM is dummy since LR=0 at that stage,untrained model, reverse fgsm refinement (eps=0.1) , same as attack \n",
    "none_fgsm_fgsm1= ['./../output/mnist_adversarial_results_20190620_154405/results_mnist_adversarial_20190620_154405.json']\n",
    "# performance for non adversarial\n",
    "none_none_fgsm1 = ['./../output/mnist_adversarial_results_20190620_160736/results_mnist_adversarial_20190620_160736.json']\n",
    "# good results 200 samples,  ERM is dummy since LR=0 at that stage,untrained model, reverse fgsm refinement (eps=0.03) , same as attack \n",
    "refine_path_fgsm3= ['./../output/mnist_adversarial_results_20190620_155833/results_mnist_adversarial_20190620_155833.json']\n",
    "\n",
    "# some improvment 200 samples,  ERM is dummy since LR=0 at that stage,untrained model, random refinement (eps=0.03) , attack(eps = 0.3)\n",
    "refine_path_fgsm4= ['./../output/mnist_adversarial_results_20190620_160340/results_mnist_adversarial_20190620_160340.json']\n",
    "# 200 samples, fgsm(eps=0.3) model, fgsm attack(0.3), reverse fgsm refinement (eps=0.1)\n",
    "fgsm_fgsm_fgsm1 = ['./../output/mnist_adversarial_results_20190630_151042/results_mnist_adversarial_20190630_151042.json']\n",
    "\n",
    "###### black-box ######\n",
    "# 200 samples, fgsm(eps=0.3) model, black-box pgd attack(0.3 , 40 iter ,20 random starts) from pgd-trained model, reverse fgsm refinement (eps=0.1)\n",
    "fgsm_pgdB_fgsm = ['./../output/mnist_adversarial_results_20190630_141611/results_mnist_adversarial_20190630_141611.json']\n",
    "# 200 samples, pgd(eps=0.35) model, black-box pgd attack(0.35 , 40 iter ,20 random starts) from pgd-trained model (eps=0.3), reverse fgsm refinement (eps=0.1)\n",
    "pgd_pgdB_fgsm = ['./../output/mnist_adversarial_results_20190630_143829/results_mnist_adversarial_20190630_143829.json']\n",
    "\n",
    "\n",
    "\n",
    "\n",
    "### CIFAR]\n",
    "cifar_natural3 = ['./../results/cifar/cifar_adversarial_results_20190709_100055/results_cifar_adversarial_20190709_100055.json']\n",
    "# BAD\n",
    "# cifar_sgd = ['./../results/cifar/cifar_adversarial_results_20190709_105052/results_cifar_adversarial_20190709_105052.json ']\n",
    "\n",
    "# cifar_sgd = ['./../results/cifar/cifar_adversarial_results_20190709_105052/results_cifar_adversarial_20190709_105052.json ']\n",
    "\n",
    "\n",
    "cifar_natural_natural_fgsm = ['./../results/cifar/cifar_adversarial_results_20190715_095114/results_cifar_adversarial_20190715_095114.json']\n",
    "# 50 samples, model trained on natural images (normalization is happening outside model, eps is incorrect), pgd attack (0.0313, 0.00078, 20 iter), fgsm refinement(eps = 0.005)\n",
    "# fgsm attack ( 0.000078, ) fix: 0.0001\n",
    "cifar_natural_fgsm_fgsm = ['./../results/cifar/cifar_adversarial_results_20190714_140450/results_cifar_adversarial_20190714_140450.json']\n",
    " \n",
    "# PGD attack (0.000313, 0.000078, 20 iter ) fix: 0.00005\n",
    "cifar_natural_pgd_fgsm1 = ['./../results/cifar/cifar_adversarial_results_20190715_084101/results_cifar_adversarial_20190715_084101.json']\n",
    "# fix: 0.0001\n",
    "cifar_natural_pgd_fgsm2 = ['./../results/cifar/cifar_adversarial_results_20190715_084538/results_cifar_adversarial_20190715_084538.json']\n",
    "# fix: 0.0002\n",
    "cifar_natural_pgd_fgsm3 = ['./../results/cifar/cifar_adversarial_results_20190715_084859/results_cifar_adversarial_20190715_084859.json']\n",
    "# fix: 0.00025\n",
    "cifar_natural_pgd_fgsm4 = ['./../results/cifar/cifar_adversarial_results_20190715_085157/results_cifar_adversarial_20190715_085157.json ']\n",
    "# fix: 0.0003\n",
    "cifar_natural_pgd_fgsm5 = ['./../results/cifar/cifar_adversarial_results_20190715_085448/results_cifar_adversarial_20190715_085448.json']\n",
    "# fix: 0.0004\n",
    "cifar_natural_pgd_fgsm6 = ['./../results/cifar/cifar_adversarial_results_20190715_085848/results_cifar_adversarial_20190715_085848.json']\n",
    "\n",
    "#PGD attack # PGD attack (0.000613, 0.000148, 20 iter ) fgsm fix: 0.00005 fix: 0.0004\n",
    "cifar_natural_pgd_fgsm7 = ['./../results/cifar/cifar_adversarial_results_20190715_100849/results_cifar_adversarial_20190715_100849.json']\n",
    "\n",
    "# PGD attack (0.000313, 0.000078, 20 iter ) fix: 0.0003, 0.00015, 2 iter\n",
    "cifar_natural_pgd_pgd1 = ['./../results/cifar/cifar_adversarial_results_20190715_090751/results_cifar_adversarial_20190715_090751.json']\n",
    "# fix: 0.0001, 0.00005, 2 iter\n",
    "cifar_natural_pgd_pgd2 = ['./../results/cifar/cifar_adversarial_results_20190715_091233/results_cifar_adversarial_20190715_091233.json ']\n",
    "# fix: 0.00015, 0.000075, 2 iter\n",
    "cifar_natural_pgd_pgd3 = ['./../results/cifar/cifar_adversarial_results_20190715_091903/results_cifar_adversarial_20190715_091903.json']\n",
    "# fix: 0.0002, 0.0001, 2 iter\n",
    "cifar_natural_pgd_pgd4 = ['./../results/cifar/cifar_adversarial_results_20190715_092144/results_cifar_adversarial_20190715_092144.json']\n",
    "# fix: 0.00025, 0.000125, 2 iter\n",
    "cifar_natural_pgd_pgd5 = ['./../results/cifar/cifar_adversarial_results_20190715_093412/results_cifar_adversarial_20190715_093412.json']\n",
    "\n",
    "\n",
    "# attack: 0.0313, 20 iter 0.0078 step, fix: 0.0004 \n",
    "cifar_pgd_pgd_fgsm1 = ['./../trained_models/wide_resnet/pgd_train/cifar_adversarial_results_20190718_164103/results_cifar_adversarial_20190718_164103.json']\n",
    "# attack: 0.0313, 20 iter 0.0078 step, fix: 0.04 \n",
    "cifar_pgd_pgd_fgsm2 = ['./../results/wide_resnet/cifar_adversarial_results_20190727_103031/results_cifar_adversarial_20190727_103031.json']\n",
    "# attack: 0.0313, 20 iter 0.0078 step, fix: 0.045\n",
    "cifar_pgd_pgd_fgsm3 = ['./../results/wide_resnet/cifar_adversarial_results_20190727_104357/results_cifar_adversarial_20190727_104357.json']\n",
    "# attack: 0.0313, 20 iter 0.0078 step, fix: 0.06\n",
    "cifar_pgd_pgd_fgsm4 = ['./../results/wide_resnet/cifar_adversarial_results_20190727_104900/results_cifar_adversarial_20190727_104900.json']\n",
    "# attack: 0.0313, 20 iter 0.0078 step, fix: 0.075\n",
    "cifar_pgd_pgd_fgsm5 = ['./../results/wide_resnet/cifar_adversarial_results_20190727_105344/results_cifar_adversarial_20190727_105344.json']\n",
    "\n",
    "# attack: 0.0313, 20 iter 0.0078 step, fix: 0.03, step_size:0.015, steps:2\n",
    "cifar_pgd_pgd_pgd1 = ['./../results/wide_resnet/cifar_adversarial_results_20190727_105829/results_cifar_adversarial_20190727_105829.json']\n",
    "# attack: 0.0313, 20 iter 0.0078 step, fix: 0.04,  step_size:0.01, steps:4\n",
    "cifar_pgd_pgd_pgd2 = ['./../results/wide_resnet/cifar_adversarial_results_20190727_110324/results_cifar_adversarial_20190727_110324.json']\n",
    "\n",
    "# attack: None,   fix: 0.06\n",
    "cifar_pgd_natural_fgsm1 = ['./../results/wide_resnet/cifar_adversarial_results_20190727_111222/results_cifar_adversarial_20190727_111222.json']\n",
    "\n",
    "\n",
    "\n",
    "\n",
    "\n",
    "\n",
    "\n",
    "\n",
    "\n",
    "\n",
    "\n",
    "\n",
    "\n",
    "\n",
    "\n",
    "\n",
    "\n",
    "\n",
    "\n"
   ]
  },
  {
   "cell_type": "markdown",
   "metadata": {},
   "source": [
    "## PNML-refine ImageNet"
   ]
  },
  {
   "cell_type": "code",
   "execution_count": null,
   "metadata": {},
   "outputs": [],
   "source": [
    "imagenet_natural_natural_natural = ['./../output/imagenet_adversarial_results_20190725_172246/results_imagenet_adversarial_20190725_172246.json']"
   ]
  },
  {
   "cell_type": "code",
   "execution_count": null,
   "metadata": {},
   "outputs": [],
   "source": [
    "# Paper results:\n",
    "# {Adv._train}_{Adv._attack}_{refinement}_{testset_size}\n",
    "###  MNIST: ###\n",
    "# Natural\n",
    "mnist_natural_natural_fgsm_all = ['./../results/paper/mnist_adversarial_results_20190802_133952/results_mnist_adversarial_20190802_133952.json'] # [Original\\PNML Accuracy] = [0.9934/0.9925]\n",
    "mnist_natural_fgsm_fgsm_all = ['./../results/paper/mnist_adversarial_results_20190802_135239/results_mnist_adversarial_20190802_135239.json'] # [Original\\PNML Accuracy] = [0.0056/0.0159]\n",
    "mnist_natural_pgd_fgsm_all = ['./../results/paper/mnist_adversarial_results_20190802_131552/results_mnist_adversarial_20190802_131552.json'] # [Original\\PNML Accuracy] = [0.0/0.0]\n",
    "# FGSM eps=0.3\n",
    "mnist_fgsm_natural_fgsm_all = ['./../results/paper/mnist_adversarial_results_20190802_122620/results_mnist_adversarial_20190802_122620.json']\n",
    "mnist_fgsm_fgsm_fgsm_all = ['./../results/paper/mnist_adversarial_results_20190801_192015/results_mnist_adversarial_20190801_192015.json'] # [Original\\PNML Accuracy] = [0.976700\\0.9135]\n",
    "mnist_fgsm_pgd_fgsm_all = ['./../results/paper/mnist_adversarial_results_20190802_125138/results_mnist_adversarial_20190802_125138.json']# [Original\\PNML Accuracy] = [0.0027/0.2329]\n",
    "# PGD eps=0.3,iter=40 , step_size=0.01, rnd_starts=20\n",
    "mnist_pgd_natural_fgsm_all = ['./../results/paper/mnist_adversarial_results_20190802_153819/results_mnist_adversarial_20190802_153819.json']   # [Original\\PNML Accuracy] = [0.9832\\0.9831]\n",
    "mnist_pgd_fgsm_fgsm_all = ['./../results/paper/mnist_adversarial_results_20190802_143802/results_mnist_adversarial_20190802_143802.json']  # [Original\\PNML Accuracy] = [0.9577\\0.9391]\n",
    "mnist_pgd_pgd_fgsm_all = ['./../results/paper/mnist_adversarial_results_20190802_151544/results_mnist_adversarial_20190802_151544.json']  # [Original\\PNML Accuracy] = [0.9051\\0.9519]\n",
    "\n",
    "###  CIFAR10: ###\n",
    "# Natural\n",
    "\n",
    "# FGSM eps=0.3\n",
    "\n",
    "# PGD eps=0.3,iter=40 , step_size=0.01, rnd_starts=20\n"
   ]
  },
  {
   "cell_type": "markdown",
   "metadata": {},
   "source": [
    "### Out of disterbution\n",
    "Starting from pretrained resenet20 which was trained on cifar10. \n",
    "The test images are not from cifar10."
   ]
  },
  {
   "cell_type": "markdown",
   "metadata": {},
   "source": [
    "#### Noise Images. \n",
    "The test images are noise images. Each pixel generated from gaussin noise. "
   ]
  },
  {
   "cell_type": "code",
   "execution_count": 4,
   "metadata": {
    "collapsed": true
   },
   "outputs": [],
   "source": []
  },
  {
   "cell_type": "markdown",
   "metadata": {},
   "source": [
    "####  SVHN\n",
    "Test images are from http://ufldl.stanford.edu/housenumbers/"
   ]
  },
  {
   "cell_type": "code",
   "execution_count": 5,
   "metadata": {
    "collapsed": true
   },
   "outputs": [],
   "source": []
  },
  {
   "cell_type": "markdown",
   "metadata": {},
   "source": [
    "### CIFAR100"
   ]
  },
  {
   "cell_type": "code",
   "execution_count": 6,
   "metadata": {
    "collapsed": true
   },
   "outputs": [],
   "source": []
  },
  {
   "cell_type": "markdown",
   "metadata": {},
   "source": [
    "### Random labels\n",
    "Training WideResnet Model with cifar10 dataset, however, the labels are assigned with some random probability.\n",
    "The code is based on https://github.com/pluskid/fitting-random-labels#command-examples"
   ]
  },
  {
   "cell_type": "code",
   "execution_count": 4,
   "metadata": {
    "collapsed": true
   },
   "outputs": [],
   "source": []
  },
  {
   "cell_type": "markdown",
   "metadata": {},
   "source": [
    "### ERM\n",
    "Running the pretrained model in order to create file in the \"NML\" style"
   ]
  },
  {
   "cell_type": "code",
   "execution_count": 9,
   "metadata": {
    "collapsed": true
   },
   "outputs": [],
   "source": []
  },
  {
   "cell_type": "markdown",
   "metadata": {},
   "source": [
    "### Mnist- Twice uniersality"
   ]
  },
  {
   "cell_type": "code",
   "execution_count": 10,
   "metadata": {
    "collapsed": true
   },
   "outputs": [],
   "source": []
  },
  {
   "cell_type": "markdown",
   "metadata": {},
   "source": [
    "# Adversarial Attack"
   ]
  },
  {
   "cell_type": "code",
   "execution_count": 6,
   "metadata": {
    "collapsed": true
   },
   "outputs": [],
   "source": []
  },
  {
   "cell_type": "code",
   "execution_count": null,
   "metadata": {
    "collapsed": true
   },
   "outputs": [],
   "source": []
  }
 ],
 "metadata": {
  "kernelspec": {
   "display_name": "Python 3",
   "language": "python",
   "name": "python3"
  },
  "language_info": {
   "codemirror_mode": {
    "name": "ipython",
    "version": 3
   },
   "file_extension": ".py",
   "mimetype": "text/x-python",
   "name": "python",
   "nbconvert_exporter": "python",
   "pygments_lexer": "ipython3",
   "version": "3.7.0"
  },
  "latex_envs": {
   "LaTeX_envs_menu_present": true,
   "autoclose": false,
   "autocomplete": true,
   "bibliofile": "biblio.bib",
   "cite_by": "apalike",
   "current_citInitial": 1,
   "eqLabelWithNumbers": true,
   "eqNumInitial": 1,
   "hotkeys": {
    "equation": "Ctrl-E",
    "itemize": "Ctrl-I"
   },
   "labels_anchors": false,
   "latex_user_defs": false,
   "report_style_numbering": false,
   "user_envs_cfg": false
  },
  "toc": {
   "base_numbering": 1,
   "nav_menu": {},
   "number_sections": true,
   "sideBar": true,
   "skip_h1_title": false,
   "title_cell": "Table of Contents",
   "title_sidebar": "Contents",
   "toc_cell": false,
   "toc_position": {},
   "toc_section_display": true,
   "toc_window_display": true
  }
 },
 "nbformat": 4,
 "nbformat_minor": 2
}
