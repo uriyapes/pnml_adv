{
 "cells": [
  {
   "cell_type": "code",
   "execution_count": 1,
   "metadata": {},
   "outputs": [],
   "source": [
    "files_nml_2_layers_erm = ['./results/mnist_adversarial_results_20190329_121138/results_mnist_adversarial_20190329_121138.json',  # 000-099\n",
    "                      './results/mnist_adversarial_results_20190329_235601/results_mnist_adversarial_20190329_235601.json']\n",
    "\n",
    "files_nml_2_layers_erm_20ep = ['./../results/mnist_adv_results_0_200_20ep/mnist_adversarial_results_20190330_223119/results_mnist_adversarial_20190330_223119.json',  # 000-099\n",
    "                      './../results/mnist_adv_results_0_200_20ep/100-199/results_mnist_adversarial_20190330_224409.json']\n",
    "\n",
    "files_nml_2_layers_adv_learn_10ep = ['./../results/results3/mnist_adversarial_results_20190331_185018/results_mnist_adversarial_20190331_185018.json',  # 000-099\n",
    "                      './../results/results3/mnist_adversarial_results_20190331_185328/results_mnist_adversarial_20190331_185328.json']\n",
    "\n",
    "files_nml_2_layers_adv_learn_genie_only = ['./../results/genie_only/mnist_adversarial_results_20190401_132921/results_mnist_adversarial_20190401_132921.json',  # 000-099\n",
    "                      './../results/genie_only/mnist_adversarial_results_20190401_132921/results_mnist_adversarial_20190401_132921.json']\n",
    "\n",
    "files_nml_2_layers_adv_20ep = ['./../results/results_adv_train_20ep/mnist_adversarial_results_20190401_053052/results_mnist_adversarial_20190401_053052.json',  # 000-099\n",
    "                      './../results/results_adv_train_20ep/mnist_adversarial_results_20190401_053254/results_mnist_adversarial_20190401_053254.json',\n",
    "                     './../results/results_adv_train_20ep/mnist_adversarial_results_20190401_053422/results_mnist_adversarial_20190401_053422.json']\n",
    "\n",
    "files_nml_2_layers_adv_strong_loss_test_sample = ['./../results/genie_only/test_sample_increased_loss/mnist_adversarial_results_20190401_222013/results_mnist_adversarial_20190401_222013.json']  # 000-099\n",
    "\n",
    "# Those results are with increased test_sample loss\n",
    "results_df_list=['./../results/genie_only/deep_model/ep_0.05_lr_0.01_ep_40/results_mnist_adversarial_20190402_003037.json']\n",
    "results_df_list=['./../results/genie_only/deep_model/ep_0.25_lr_0.01_ep40/results_mnist_adversarial_20190402_004655.json']\n",
    "results_df_list=['./../results/genie_only/deep_model/ep_0.25_lr_0.01_ep_70_initep_130/results_mnist_adversarial_20190402_011507.json']\n",
    "\n",
    "# Deep model with normal LR genie\n",
    "results_df_list=['./../results/genie_only/lr_0.01_40ep/results_mnist_adversarial_20190402_121453.json']\n",
    "results_df_list=['./../results/genie_only/lr_0.001_ep40/results_mnist_adversarial_20190402_121546.json']\n",
    "\n",
    "# Deep model with normal LR \n",
    "files_nml_2_layers=['./../results/deep_net/output/mnist_adversarial_results_20190402_124547/results_mnist_adversarial_20190402_124547.json',\n",
    "                './../results/deep_net/output/mnist_adversarial_results_20190402_153835/results_mnist_adversarial_20190402_153835.json',\n",
    "                './../results/deep_net/output/mnist_adversarial_results_20190402_153939/results_mnist_adversarial_20190402_153939.json',\n",
    "                './../results/deep_net/output/mnist_adversarial_results_20190402_124510/results_mnist_adversarial_20190402_124510.json']\n",
    "\n",
    "# Deep model with normal LR =0.001 10 epochs, 100 samples\n",
    "files_nml_2_layers =['./../results/deep_net/output/mnist_adversarial_results_20190402_170452/results_mnist_adversarial_20190402_170452.json',\n",
    "                './../results/deep_net/output/mnist_adversarial_results_20190402_170656/results_mnist_adversarial_20190402_170656.json',\n",
    "                './../results/deep_net/output/mnist_adversarial_results_20190402_170738/results_mnist_adversarial_20190402_170738.json',\n",
    "                './../results/deep_net/output/mnist_adversarial_results_20190402_170812/results_mnist_adversarial_20190402_170812.json']\n",
    "\n",
    "# Deep model with normal LR =0.001 10 epochs, 600 samples\n",
    "files_nml_2_layers2 =['./../results/deep_net/output/mnist_adversarial_results_20190402_170452/results_mnist_adversarial_20190402_170452.json',\n",
    "                './../results/deep_net/output/mnist_adversarial_results_20190402_170656/results_mnist_adversarial_20190402_170656.json',\n",
    "                './../results/deep_net/output/mnist_adversarial_results_20190402_170738/results_mnist_adversarial_20190402_170738.json',\n",
    "                './../results/deep_net/output/mnist_adversarial_results_20190402_170812/results_mnist_adversarial_20190402_170812.json',\n",
    "                    './../results/deep_net/output/mnist_adversarial_results_20190402_233012/results_mnist_adversarial_20190402_233012.json',\n",
    "                    './../results/deep_net/output/mnist_adversarial_results_20190402_233100/results_mnist_adversarial_20190402_233100.json',\n",
    "                    './../results/deep_net/output/mnist_adversarial_results_20190402_233145/results_mnist_adversarial_20190402_233145.json',\n",
    "                    './../results/deep_net/output/mnist_adversarial_results_20190402_233318/results_mnist_adversarial_20190402_233318.json',\n",
    "                    './../results/deep_net/output/mnist_adversarial_results_20190402_233424/results_mnist_adversarial_20190402_233424.json']\n",
    "\n",
    "# Deep model with normal LR =0.001 16 epochs\n",
    "files_nml_2_layers =['./../results/deep_net/lr_0.001_ep_16/mnist_adversarial_results_20190404_130659/results_mnist_adversarial_20190404_130659.json',\n",
    "                './../results/deep_net/lr_0.001_ep_16/mnist_adversarial_results_20190404_130840/results_mnist_adversarial_20190404_130840.json',\n",
    "                './../results/deep_net/lr_0.001_ep_16/mnist_adversarial_results_20190404_131448/results_mnist_adversarial_20190404_131448.json',\n",
    "                './../results/deep_net/lr_0.001_ep_16/mnist_adversarial_results_20190404_131904/results_mnist_adversarial_20190404_131904.json']\n",
    "\n",
    "# Deep model with normal LR =0.001, step=8, 16 epochs genie\n",
    "files_nml_2_layers2=['./../results/genie_only/deep_model/lr_0.001_ep_16/mnist_adversarial_results_20190407_221603/results_mnist_adversarial_20190407_221603.json']\n",
    "# bad genie\n",
    "files_nml_2_layers2 = ['./../results/genie_only/deep_model/lr_0.001_ep_8/results_mnist_adversarial_20190407_153226.json']\n",
    "\n",
    "files_nml_2_layers2 = ['./../results/genie_only/deep_model/lr_0.001_ep_10/results_mnist_adversarial_20190407_211336.json']\n",
    "\n",
    "files_nml_2_layers2 = ['./../results/genie_only/deep_model/lr_0.001_ep_20/results_mnist_adversarial_20190408_083254.json']\n",
    "\n",
    "files_nml_2_layers2 = ['./../results/genie_only/deep_model/lr_0.001_ep_20_b/results_mnist_adversarial_20190408_150117.json']\n",
    "\n",
    "files_nml_2_layers2 = ['./../results/genie_only/deep_model/lr_0.001_ep_10_othermodel/mnist_adversarial_results_20190411_151858/results_mnist_adversarial_20190411_151858.json']\n",
    "\n",
    "files_nml_2_layers2=['./../results/deep_net/lr_0.005_ep_20_step_1_5_10_15/results_mnist_adversarial_20190408_180502.json']\n",
    "\n",
    "# Deep model with adversarial loss for the test sample\n",
    "files_mnist_2_layers = ['./../results/deep_net/lr_0.001_ep_10/mnist_adversarial_results_20190410_225539/results_mnist_adversarial_20190410_225539.json',\n",
    "                './../results/deep_net/lr_0.001_ep_10/mnist_adversarial_results_20190410_225558/results_mnist_adversarial_20190410_225558.json',\n",
    "                './../results/deep_net/lr_0.001_ep_10/mnist_adversarial_results_20190410_225630/results_mnist_adversarial_20190410_225630.json',\n",
    "                './../results/deep_net/lr_0.001_ep_10/mnist_adversarial_results_20190410_225652/results_mnist_adversarial_20190410_225652.json']\n",
    "\n",
    "# Deep model B with no adversarial loss, epochs = 10 lr=0.001, with shuffling, epsilon=0.25\n",
    "files_mnist_1_layers = ['./../results/deep_net/lr_0.001_ep_10_model_b/mnist_adversarial_results_20190411_163253/results_mnist_adversarial_20190411_163253.json',\n",
    "                './../results/deep_net/lr_0.001_ep_10_model_b/mnist_adversarial_results_20190411_163340/results_mnist_adversarial_20190411_163340.json',\n",
    "                './../results/deep_net/lr_0.001_ep_10_model_b/mnist_adversarial_results_20190411_163412/results_mnist_adversarial_20190411_163412.json',\n",
    "                './../results/deep_net/lr_0.001_ep_10_model_b/mnist_adversarial_results_20190411_163510/results_mnist_adversarial_20190411_163510.json']\n",
    "\n"
   ]
  },
  {
   "cell_type": "markdown",
   "metadata": {},
   "source": [
    "### Twice universality\n",
    "results explaination:\n",
    "\n",
    "Each run is saved in a different folder and contains the first 100 idx. \n",
    "The folder name indicates which model was used for testing and which model was used to generate the adversarial set - \n",
    "* Folders names format: M<model index used for testing><model index used for adversarial attack>\n",
    "\n",
    "The model index are the following:\n",
    "1 - \"./models/mnist_adversarial_model_eps0.25_ep101_seed_1_shuffle.pt\"  - \tepsilon= 0.25\n",
    "2 - \"./models/deep_net/ep_101_eps_0.1/mnist_model_seed_1_shuffle.pt\" - \t\tepsilon= 0.1\n",
    "3 - \"./models/deep_net/ep_101_eps_0/mnist_adversarial_model_0.000579.pt\" - \tepsilon= 0\n",
    "4 - \"./models/deep_net/ep_101_eps_0/mnist_adversarial_model_0.000579.pt\" - \tepsilon= 0.15"
   ]
  },
  {
   "cell_type": "code",
   "execution_count": null,
   "metadata": {},
   "outputs": [],
   "source": [
    "M11_path = ['./../results/deep_net/twice_univ/M11/results_mnist_adversarial_20190416_164500.json']\n",
    "M12_path = ['./../results/deep_net/twice_univ/M12/results_mnist_adversarial_20190416_164641.json']\n",
    "M13_path = ['./../results/deep_net/twice_univ/M13/results_mnist_adversarial_20190416_164806.json']\n",
    "M14_path = ['./../results/deep_net/twice_univ/M14A/results_mnist_adversarial_20190417_153920.json',\n",
    "           './../results/deep_net/twice_univ/M14B/results_mnist_adversarial_20190417_153958.json']\n",
    "M21_path = ['./../results/deep_net/twice_univ/M21/results_mnist_adversarial_20190416_165007.json']\n",
    "M22_path = ['./../results/deep_net/twice_univ/M22/results_mnist_adversarial_20190416_165127.json']\n",
    "M23_path = ['./../results/deep_net/twice_univ/M23/results_mnist_adversarial_20190416_165303.json']\n",
    "M24_path = ['./../results/deep_net/twice_univ/M24A/results_mnist_adversarial_20190417_154137.json',\n",
    "           './../results/deep_net/twice_univ/M24B/results_mnist_adversarial_20190417_154214.json']\n",
    "# M31 = ['./../results/deep_net/twice_univ/M31/results_mnist_adversarial_20190416_005537.json']\n",
    "# M32 = ['./../results/deep_net/twice_univ/M32/results_mnist_adversarial_20190416_014245.json']\n",
    "# M33 = ['./../results/deep_net/twice_univ/M33/results_mnist_adversarial_20190416_005722.json']\n",
    "\n",
    "M1_list = [M11_path, M12_path, M14_path]\n",
    "M2_list = [M21_path, M22_path, M24_path]"
   ]
  },
  {
   "cell_type": "markdown",
   "metadata": {},
   "source": [
    "### Out of disterbution\n",
    "Starting from pretrained resenet20 which was trained on cifar10. \n",
    "The test images are not from cifar10."
   ]
  },
  {
   "cell_type": "markdown",
   "metadata": {},
   "source": [
    "#### Noise Images. \n",
    "The test images are noise images. Each pixel generated from gaussin noise. "
   ]
  },
  {
   "cell_type": "code",
   "execution_count": 4,
   "metadata": {
    "collapsed": true
   },
   "outputs": [],
   "source": []
  },
  {
   "cell_type": "markdown",
   "metadata": {},
   "source": [
    "####  SVHN\n",
    "Test images are from http://ufldl.stanford.edu/housenumbers/"
   ]
  },
  {
   "cell_type": "code",
   "execution_count": 5,
   "metadata": {
    "collapsed": true
   },
   "outputs": [],
   "source": []
  },
  {
   "cell_type": "markdown",
   "metadata": {},
   "source": [
    "### CIFAR100"
   ]
  },
  {
   "cell_type": "code",
   "execution_count": 6,
   "metadata": {
    "collapsed": true
   },
   "outputs": [],
   "source": []
  },
  {
   "cell_type": "markdown",
   "metadata": {},
   "source": [
    "### Random labels\n",
    "Training WideResnet Model with cifar10 dataset, however, the labels are assigned with some random probability.\n",
    "The code is based on https://github.com/pluskid/fitting-random-labels#command-examples"
   ]
  },
  {
   "cell_type": "code",
   "execution_count": 4,
   "metadata": {
    "collapsed": true
   },
   "outputs": [],
   "source": []
  },
  {
   "cell_type": "markdown",
   "metadata": {},
   "source": [
    "### ERM\n",
    "Running the pretrained model in order to create file in the \"NML\" style"
   ]
  },
  {
   "cell_type": "code",
   "execution_count": 9,
   "metadata": {
    "collapsed": true
   },
   "outputs": [],
   "source": []
  },
  {
   "cell_type": "markdown",
   "metadata": {},
   "source": [
    "### Mnist- Twice uniersality"
   ]
  },
  {
   "cell_type": "code",
   "execution_count": 10,
   "metadata": {
    "collapsed": true
   },
   "outputs": [],
   "source": []
  },
  {
   "cell_type": "markdown",
   "metadata": {},
   "source": [
    "# Adversarial Attack"
   ]
  },
  {
   "cell_type": "code",
   "execution_count": 6,
   "metadata": {
    "collapsed": true
   },
   "outputs": [],
   "source": []
  },
  {
   "cell_type": "code",
   "execution_count": null,
   "metadata": {
    "collapsed": true
   },
   "outputs": [],
   "source": []
  }
 ],
 "metadata": {
  "kernelspec": {
   "display_name": "Python 2",
   "language": "python",
   "name": "python2"
  },
  "language_info": {
   "codemirror_mode": {
    "name": "ipython",
    "version": 3
   },
   "file_extension": ".py",
   "mimetype": "text/x-python",
   "name": "python",
   "nbconvert_exporter": "python",
   "pygments_lexer": "ipython3",
   "version": "3.6.8"
  },
  "latex_envs": {
   "LaTeX_envs_menu_present": true,
   "autoclose": false,
   "autocomplete": true,
   "bibliofile": "biblio.bib",
   "cite_by": "apalike",
   "current_citInitial": 1,
   "eqLabelWithNumbers": true,
   "eqNumInitial": 1,
   "hotkeys": {
    "equation": "Ctrl-E",
    "itemize": "Ctrl-I"
   },
   "labels_anchors": false,
   "latex_user_defs": false,
   "report_style_numbering": false,
   "user_envs_cfg": false
  },
  "toc": {
   "base_numbering": 1,
   "nav_menu": {},
   "number_sections": true,
   "sideBar": true,
   "skip_h1_title": false,
   "title_cell": "Table of Contents",
   "title_sidebar": "Contents",
   "toc_cell": false,
   "toc_position": {},
   "toc_section_display": true,
   "toc_window_display": true
  }
 },
 "nbformat": 4,
 "nbformat_minor": 2
}
