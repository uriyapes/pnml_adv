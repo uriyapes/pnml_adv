{
 "cells": [
  {
   "cell_type": "code",
   "execution_count": 1,
   "metadata": {
    "collapsed": true
   },
   "outputs": [],
   "source": [
    "files_nml_2_layers_erm = ['./results/mnist_adversarial_results_20190329_121138/results_mnist_adversarial_20190329_121138.json',  # 000-099\n",
    "                      './results/mnist_adversarial_results_20190329_235601/results_mnist_adversarial_20190329_235601.json']\n",
    "\n",
    "files_nml_2_layers_erm_20ep = ['./../results/mnist_adv_results_0_200_20ep/mnist_adversarial_results_20190330_223119/results_mnist_adversarial_20190330_223119.json',  # 000-099\n",
    "                      './../results/mnist_adv_results_0_200_20ep/100-199/results_mnist_adversarial_20190330_224409.json']\n",
    "\n",
    "files_nml_2_layers_adv_learn_10ep = ['./../results/results3/mnist_adversarial_results_20190331_185018/results_mnist_adversarial_20190331_185018.json',  # 000-099\n",
    "                      './../results/results3/mnist_adversarial_results_20190331_185328/results_mnist_adversarial_20190331_185328.json']\n",
    "\n",
    "files_nml_2_layers_adv_learn_genie_only = ['./../results/genie_only/mnist_adversarial_results_20190401_132921/results_mnist_adversarial_20190401_132921.json',  # 000-099\n",
    "                      './../results/genie_only/mnist_adversarial_results_20190401_132921/results_mnist_adversarial_20190401_132921.json']\n",
    "\n",
    "files_nml_2_layers_adv_20ep = ['./../results/results_adv_train_20ep/mnist_adversarial_results_20190401_053052/results_mnist_adversarial_20190401_053052.json',  # 000-099\n",
    "                      './../results/results_adv_train_20ep/mnist_adversarial_results_20190401_053254/results_mnist_adversarial_20190401_053254.json',\n",
    "                     './../results/results_adv_train_20ep/mnist_adversarial_results_20190401_053422/results_mnist_adversarial_20190401_053422.json']\n",
    "\n",
    "files_nml_2_layers_adv_strong_loss_test_sample = ['./../results/genie_only/test_sample_increased_loss/mnist_adversarial_results_20190401_222013/results_mnist_adversarial_20190401_222013.json']  # 000-099\n",
    "\n",
    "# Those results are with increased test_sample loss\n",
    "results_df_list=['./../results/genie_only/deep_model/ep_0.05_lr_0.01_ep_40/results_mnist_adversarial_20190402_003037.json']\n",
    "results_df_list=['./../results/genie_only/deep_model/ep_0.25_lr_0.01_ep40/results_mnist_adversarial_20190402_004655.json']\n",
    "results_df_list=['./../results/genie_only/deep_model/ep_0.25_lr_0.01_ep_70_initep_130/results_mnist_adversarial_20190402_011507.json']\n",
    "\n",
    "# Deep model with normal LR genie\n",
    "results_df_list=['./../results/genie_only/lr_0.01_40ep/results_mnist_adversarial_20190402_121453.json']\n",
    "results_df_list=['./../results/genie_only/lr_0.001_ep40/results_mnist_adversarial_20190402_121546.json']\n",
    "\n",
    "# Deep model with normal LR \n",
    "files_nml_2_layers=['./../results/deep_net/output/mnist_adversarial_results_20190402_124547/results_mnist_adversarial_20190402_124547.json',\n",
    "                './../results/deep_net/output/mnist_adversarial_results_20190402_153835/results_mnist_adversarial_20190402_153835.json',\n",
    "                './../results/deep_net/output/mnist_adversarial_results_20190402_153939/results_mnist_adversarial_20190402_153939.json',\n",
    "                './../results/deep_net/output/mnist_adversarial_results_20190402_124510/results_mnist_adversarial_20190402_124510.json']\n",
    "\n",
    "# Deep model with normal LR =0.001 10 epochs, 100 samples\n",
    "files_nml_2_layers =['./../results/deep_net/output/mnist_adversarial_results_20190402_170452/results_mnist_adversarial_20190402_170452.json',\n",
    "                './../results/deep_net/output/mnist_adversarial_results_20190402_170656/results_mnist_adversarial_20190402_170656.json',\n",
    "                './../results/deep_net/output/mnist_adversarial_results_20190402_170738/results_mnist_adversarial_20190402_170738.json',\n",
    "                './../results/deep_net/output/mnist_adversarial_results_20190402_170812/results_mnist_adversarial_20190402_170812.json']\n",
    "\n",
    "# Deep model with normal LR =0.001 10 epochs, 600 samples\n",
    "files_nml_2_layers =['./../results/deep_net/output/mnist_adversarial_results_20190402_170452/results_mnist_adversarial_20190402_170452.json',\n",
    "                './../results/deep_net/output/mnist_adversarial_results_20190402_170656/results_mnist_adversarial_20190402_170656.json',\n",
    "                './../results/deep_net/output/mnist_adversarial_results_20190402_170738/results_mnist_adversarial_20190402_170738.json',\n",
    "                './../results/deep_net/output/mnist_adversarial_results_20190402_170812/results_mnist_adversarial_20190402_170812.json',\n",
    "                    './../results/deep_net/output/mnist_adversarial_results_20190402_233012/results_mnist_adversarial_20190402_233012.json',\n",
    "                    './../results/deep_net/output/mnist_adversarial_results_20190402_233100/results_mnist_adversarial_20190402_233100.json',\n",
    "                    './../results/deep_net/output/mnist_adversarial_results_20190402_233145/results_mnist_adversarial_20190402_233145.json',\n",
    "                    './../results/deep_net/output/mnist_adversarial_results_20190402_233318/results_mnist_adversarial_20190402_233318.json',\n",
    "                    './../results/deep_net/output/mnist_adversarial_results_20190402_233424/results_mnist_adversarial_20190402_233424.json']\n",
    "\n",
    "files_nml_2_layers =['./../results/deep_net/lr_0.001_ep_16/mnist_adversarial_results_20190404_130659/results_mnist_adversarial_20190404_130659.json',\n",
    "                './../results/deep_net/lr_0.001_ep_16/mnist_adversarial_results_20190404_130840/results_mnist_adversarial_20190404_130840.json',\n",
    "                './../results/deep_net/lr_0.001_ep_16/mnist_adversarial_results_20190404_131448/results_mnist_adversarial_20190404_131448.json',\n",
    "                './../results/deep_net/lr_0.001_ep_16/mnist_adversarial_results_20190404_131904/results_mnist_adversarial_20190404_131904.json']"
   ]
  },
  {
   "cell_type": "markdown",
   "metadata": {},
   "source": [
    "* Training only 5 last layers for each label"
   ]
  },
  {
   "cell_type": "code",
   "execution_count": 2,
   "metadata": {
    "collapsed": true
   },
   "outputs": [],
   "source": []
  },
  {
   "cell_type": "markdown",
   "metadata": {},
   "source": [
    "* Training all the 7 layers"
   ]
  },
  {
   "cell_type": "code",
   "execution_count": 3,
   "metadata": {
    "collapsed": true
   },
   "outputs": [],
   "source": []
  },
  {
   "cell_type": "markdown",
   "metadata": {},
   "source": [
    "### Out of disterbution\n",
    "Starting from pretrained resenet20 which was trained on cifar10. \n",
    "The test images are not from cifar10."
   ]
  },
  {
   "cell_type": "markdown",
   "metadata": {},
   "source": [
    "#### Noise Images. \n",
    "The test images are noise images. Each pixel generated from gaussin noise. "
   ]
  },
  {
   "cell_type": "code",
   "execution_count": 4,
   "metadata": {
    "collapsed": true
   },
   "outputs": [],
   "source": []
  },
  {
   "cell_type": "markdown",
   "metadata": {},
   "source": [
    "####  SVHN\n",
    "Test images are from http://ufldl.stanford.edu/housenumbers/"
   ]
  },
  {
   "cell_type": "code",
   "execution_count": 5,
   "metadata": {
    "collapsed": true
   },
   "outputs": [],
   "source": []
  },
  {
   "cell_type": "markdown",
   "metadata": {},
   "source": [
    "### CIFAR100"
   ]
  },
  {
   "cell_type": "code",
   "execution_count": 6,
   "metadata": {
    "collapsed": true
   },
   "outputs": [],
   "source": []
  },
  {
   "cell_type": "markdown",
   "metadata": {},
   "source": [
    "### Random labels\n",
    "Training WideResnet Model with cifar10 dataset, however, the labels are assigned with some random probability.\n",
    "The code is based on https://github.com/pluskid/fitting-random-labels#command-examples"
   ]
  },
  {
   "cell_type": "code",
   "execution_count": 4,
   "metadata": {
    "collapsed": true
   },
   "outputs": [],
   "source": []
  },
  {
   "cell_type": "markdown",
   "metadata": {},
   "source": [
    "### ERM\n",
    "Running the pretrained model in order to create file in the \"NML\" style"
   ]
  },
  {
   "cell_type": "code",
   "execution_count": 9,
   "metadata": {
    "collapsed": true
   },
   "outputs": [],
   "source": []
  },
  {
   "cell_type": "markdown",
   "metadata": {},
   "source": [
    "### Mnist- Twice uniersality"
   ]
  },
  {
   "cell_type": "code",
   "execution_count": 10,
   "metadata": {
    "collapsed": true
   },
   "outputs": [],
   "source": []
  },
  {
   "cell_type": "markdown",
   "metadata": {},
   "source": [
    "# Adversarial Attack"
   ]
  },
  {
   "cell_type": "code",
   "execution_count": 6,
   "metadata": {
    "collapsed": true
   },
   "outputs": [],
   "source": []
  },
  {
   "cell_type": "code",
   "execution_count": null,
   "metadata": {
    "collapsed": true
   },
   "outputs": [],
   "source": []
  }
 ],
 "metadata": {
  "kernelspec": {
   "display_name": "Python 2",
   "language": "python",
   "name": "python2"
  },
  "language_info": {
   "codemirror_mode": {
    "name": "ipython",
    "version": 3
   },
   "file_extension": ".py",
   "mimetype": "text/x-python",
   "name": "python",
   "nbconvert_exporter": "python",
   "pygments_lexer": "ipython3",
   "version": "3.6.8"
  },
  "latex_envs": {
   "LaTeX_envs_menu_present": true,
   "autoclose": false,
   "autocomplete": true,
   "bibliofile": "biblio.bib",
   "cite_by": "apalike",
   "current_citInitial": 1,
   "eqLabelWithNumbers": true,
   "eqNumInitial": 1,
   "hotkeys": {
    "equation": "Ctrl-E",
    "itemize": "Ctrl-I"
   },
   "labels_anchors": false,
   "latex_user_defs": false,
   "report_style_numbering": false,
   "user_envs_cfg": false
  },
  "toc": {
   "base_numbering": 1,
   "nav_menu": {},
   "number_sections": true,
   "sideBar": true,
   "skip_h1_title": false,
   "title_cell": "Table of Contents",
   "title_sidebar": "Contents",
   "toc_cell": false,
   "toc_position": {},
   "toc_section_display": true,
   "toc_window_display": true
  }
 },
 "nbformat": 4,
 "nbformat_minor": 2
}
